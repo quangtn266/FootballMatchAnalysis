{
 "cells": [
  {
   "cell_type": "markdown",
   "id": "b4138af3-86e6-4818-a762-e004c7e4bbbe",
   "metadata": {},
   "source": [
    "# SMS Test\n",
    "## Introduction\n",
    "This is a test assessment from __SMS__. There are 2 datasets including __Cadidate/EPL.xlsx__ (England football matches) and __Cadidate/ITA.xlsx__ (Italy football matches). \\\n",
    "The information fields of 2 datasets are the same: \\\n",
    "    + __Matchweek__. (Numerical value) \\\n",
    "    + __Day__. (Text value) \\\n",
    "    + __Date__. (Time value) \\\n",
    "    + __Season__. (Time value) \\\n",
    "    + __Time__.  (Time value) \\\n",
    "    + __home_team__. (Text value) \\\n",
    "    + __home_score__. (Numerical value) \\\n",
    "    + __away_team__. (Text value) \\\n",
    "    + __away_score__. (Numerical value) \\\n",
    "    + __Venue__. (Text value) \\\n",
    "    + __Referee__. (Text value) \\\n",
    "    + __diff_score__. (Numerical value) \\\n",
    "I will explore these datasets and build a machine learning model based on one of these datasets with labels __[\"Draw\", \"Lose\", \"Win\"]__"
   ]
  },
  {
   "cell_type": "markdown",
   "id": "1aca2b40-a343-4d88-89aa-e1d14093b7e7",
   "metadata": {},
   "source": [
    "## Importing library & Loading data"
   ]
  },
  {
   "cell_type": "code",
   "execution_count": 1,
   "id": "37ae72b7-e57c-4d85-b52b-ce2d5eb0e3c4",
   "metadata": {},
   "outputs": [
    {
     "name": "stdout",
     "output_type": "stream",
     "text": [
      "Intel MKL WARNING: Support of Intel(R) Streaming SIMD Extensions 4.2 (Intel(R) SSE4.2) enabled only processors has been deprecated. Intel oneAPI Math Kernel Library 2025.0 will require Intel(R) Advanced Vector Extensions (Intel(R) AVX) instructions.\n",
      "Intel MKL WARNING: Support of Intel(R) Streaming SIMD Extensions 4.2 (Intel(R) SSE4.2) enabled only processors has been deprecated. Intel oneAPI Math Kernel Library 2025.0 will require Intel(R) Advanced Vector Extensions (Intel(R) AVX) instructions.\n"
     ]
    }
   ],
   "source": [
    "import numpy as np\n",
    "import pandas as pd\n",
    "import matplotlib.pyplot as plt"
   ]
  },
  {
   "cell_type": "markdown",
   "id": "0df7e594-c1ae-4a1f-8079-3fa8c1fd8b8d",
   "metadata": {},
   "source": [
    "### Problem 1: Analysis"
   ]
  },
  {
   "cell_type": "code",
   "execution_count": 2,
   "id": "17c63ad4-f3b9-4f7e-a75a-82adbf61f096",
   "metadata": {},
   "outputs": [],
   "source": [
    "EplData = pd.read_excel(\"Candidate Data/EPL.xlsx\")"
   ]
  },
  {
   "cell_type": "code",
   "execution_count": 3,
   "id": "6d052cc2-60e7-42df-9724-c485e2a94a73",
   "metadata": {},
   "outputs": [],
   "source": [
    "ItaData = pd.read_excel(\"Candidate Data/ITA.xlsx\")"
   ]
  },
  {
   "cell_type": "code",
   "execution_count": 4,
   "id": "38bc8324-ce42-4245-a3ac-4f7de764d668",
   "metadata": {},
   "outputs": [
    {
     "data": {
      "text/html": [
       "<div>\n",
       "<style scoped>\n",
       "    .dataframe tbody tr th:only-of-type {\n",
       "        vertical-align: middle;\n",
       "    }\n",
       "\n",
       "    .dataframe tbody tr th {\n",
       "        vertical-align: top;\n",
       "    }\n",
       "\n",
       "    .dataframe thead th {\n",
       "        text-align: right;\n",
       "    }\n",
       "</style>\n",
       "<table border=\"1\" class=\"dataframe\">\n",
       "  <thead>\n",
       "    <tr style=\"text-align: right;\">\n",
       "      <th></th>\n",
       "      <th>Matchweek</th>\n",
       "      <th>Day</th>\n",
       "      <th>Date</th>\n",
       "      <th>Season</th>\n",
       "      <th>Time</th>\n",
       "      <th>home_team</th>\n",
       "      <th>home_score</th>\n",
       "      <th>away_team</th>\n",
       "      <th>away_score</th>\n",
       "      <th>Venue</th>\n",
       "      <th>Referee</th>\n",
       "      <th>diff_score</th>\n",
       "    </tr>\n",
       "  </thead>\n",
       "  <tbody>\n",
       "    <tr>\n",
       "      <th>0</th>\n",
       "      <td>1</td>\n",
       "      <td>Fri</td>\n",
       "      <td>2022-08-05</td>\n",
       "      <td>2022-2023</td>\n",
       "      <td>20:00</td>\n",
       "      <td>Crystal Palace</td>\n",
       "      <td>0</td>\n",
       "      <td>Arsenal</td>\n",
       "      <td>2</td>\n",
       "      <td>Selhurst Park</td>\n",
       "      <td>Anthony Taylor</td>\n",
       "      <td>-2</td>\n",
       "    </tr>\n",
       "    <tr>\n",
       "      <th>1</th>\n",
       "      <td>1</td>\n",
       "      <td>Sat</td>\n",
       "      <td>2022-08-06</td>\n",
       "      <td>2022-2023</td>\n",
       "      <td>12:30</td>\n",
       "      <td>Fulham</td>\n",
       "      <td>2</td>\n",
       "      <td>Liverpool</td>\n",
       "      <td>2</td>\n",
       "      <td>Craven Cottage</td>\n",
       "      <td>Andy Madley</td>\n",
       "      <td>0</td>\n",
       "    </tr>\n",
       "    <tr>\n",
       "      <th>2</th>\n",
       "      <td>1</td>\n",
       "      <td>Sat</td>\n",
       "      <td>2022-08-06</td>\n",
       "      <td>2022-2023</td>\n",
       "      <td>15:00</td>\n",
       "      <td>Tottenham</td>\n",
       "      <td>4</td>\n",
       "      <td>Southampton</td>\n",
       "      <td>1</td>\n",
       "      <td>Tottenham Hotspur Stadium</td>\n",
       "      <td>Andre Marriner</td>\n",
       "      <td>3</td>\n",
       "    </tr>\n",
       "    <tr>\n",
       "      <th>3</th>\n",
       "      <td>1</td>\n",
       "      <td>Sat</td>\n",
       "      <td>2022-08-06</td>\n",
       "      <td>2022-2023</td>\n",
       "      <td>15:00</td>\n",
       "      <td>Newcastle United</td>\n",
       "      <td>2</td>\n",
       "      <td>Nottingham Forest</td>\n",
       "      <td>0</td>\n",
       "      <td>St James' Park</td>\n",
       "      <td>Simon Hooper</td>\n",
       "      <td>2</td>\n",
       "    </tr>\n",
       "    <tr>\n",
       "      <th>4</th>\n",
       "      <td>1</td>\n",
       "      <td>Sat</td>\n",
       "      <td>2022-08-06</td>\n",
       "      <td>2022-2023</td>\n",
       "      <td>15:00</td>\n",
       "      <td>Leeds United</td>\n",
       "      <td>2</td>\n",
       "      <td>Wolves</td>\n",
       "      <td>1</td>\n",
       "      <td>Elland Road</td>\n",
       "      <td>Robert Jones</td>\n",
       "      <td>1</td>\n",
       "    </tr>\n",
       "  </tbody>\n",
       "</table>\n",
       "</div>"
      ],
      "text/plain": [
       "   Matchweek  Day       Date     Season   Time         home_team  home_score  \\\n",
       "0          1  Fri 2022-08-05  2022-2023  20:00    Crystal Palace           0   \n",
       "1          1  Sat 2022-08-06  2022-2023  12:30            Fulham           2   \n",
       "2          1  Sat 2022-08-06  2022-2023  15:00         Tottenham           4   \n",
       "3          1  Sat 2022-08-06  2022-2023  15:00  Newcastle United           2   \n",
       "4          1  Sat 2022-08-06  2022-2023  15:00      Leeds United           2   \n",
       "\n",
       "           away_team  away_score                      Venue         Referee  \\\n",
       "0            Arsenal           2              Selhurst Park  Anthony Taylor   \n",
       "1          Liverpool           2             Craven Cottage     Andy Madley   \n",
       "2        Southampton           1  Tottenham Hotspur Stadium  Andre Marriner   \n",
       "3  Nottingham Forest           0             St James' Park    Simon Hooper   \n",
       "4             Wolves           1                Elland Road    Robert Jones   \n",
       "\n",
       "   diff_score  \n",
       "0          -2  \n",
       "1           0  \n",
       "2           3  \n",
       "3           2  \n",
       "4           1  "
      ]
     },
     "execution_count": 4,
     "metadata": {},
     "output_type": "execute_result"
    }
   ],
   "source": [
    "EplData.head()"
   ]
  },
  {
   "cell_type": "code",
   "execution_count": 5,
   "id": "06ee1a36-75e3-4083-87e7-8214946b346a",
   "metadata": {},
   "outputs": [
    {
     "data": {
      "text/html": [
       "<div>\n",
       "<style scoped>\n",
       "    .dataframe tbody tr th:only-of-type {\n",
       "        vertical-align: middle;\n",
       "    }\n",
       "\n",
       "    .dataframe tbody tr th {\n",
       "        vertical-align: top;\n",
       "    }\n",
       "\n",
       "    .dataframe thead th {\n",
       "        text-align: right;\n",
       "    }\n",
       "</style>\n",
       "<table border=\"1\" class=\"dataframe\">\n",
       "  <thead>\n",
       "    <tr style=\"text-align: right;\">\n",
       "      <th></th>\n",
       "      <th>Matchweek</th>\n",
       "      <th>Day</th>\n",
       "      <th>Date</th>\n",
       "      <th>Season</th>\n",
       "      <th>Time</th>\n",
       "      <th>home_team</th>\n",
       "      <th>home_score</th>\n",
       "      <th>away_team</th>\n",
       "      <th>away_score</th>\n",
       "      <th>Venue</th>\n",
       "      <th>Referee</th>\n",
       "      <th>diff_score</th>\n",
       "    </tr>\n",
       "  </thead>\n",
       "  <tbody>\n",
       "    <tr>\n",
       "      <th>0</th>\n",
       "      <td>1.0</td>\n",
       "      <td>Sat</td>\n",
       "      <td>2022-08-13</td>\n",
       "      <td>2022-2023</td>\n",
       "      <td>18:30</td>\n",
       "      <td>Sampdoria</td>\n",
       "      <td>0</td>\n",
       "      <td>Atalanta</td>\n",
       "      <td>2</td>\n",
       "      <td>Stadio Comunale Luigi Ferraris</td>\n",
       "      <td>Federico Dionisi</td>\n",
       "      <td>-2</td>\n",
       "    </tr>\n",
       "    <tr>\n",
       "      <th>1</th>\n",
       "      <td>1.0</td>\n",
       "      <td>Sat</td>\n",
       "      <td>2022-08-13</td>\n",
       "      <td>2022-2023</td>\n",
       "      <td>18:30</td>\n",
       "      <td>Milan</td>\n",
       "      <td>4</td>\n",
       "      <td>Udinese</td>\n",
       "      <td>2</td>\n",
       "      <td>Stadio Giuseppe Meazza</td>\n",
       "      <td>Livio Marinelli</td>\n",
       "      <td>2</td>\n",
       "    </tr>\n",
       "    <tr>\n",
       "      <th>2</th>\n",
       "      <td>1.0</td>\n",
       "      <td>Sat</td>\n",
       "      <td>2022-08-13</td>\n",
       "      <td>2022-2023</td>\n",
       "      <td>20:45</td>\n",
       "      <td>Monza</td>\n",
       "      <td>1</td>\n",
       "      <td>Torino</td>\n",
       "      <td>2</td>\n",
       "      <td>U-Power Stadium</td>\n",
       "      <td>Maurizio Mariani</td>\n",
       "      <td>-1</td>\n",
       "    </tr>\n",
       "    <tr>\n",
       "      <th>3</th>\n",
       "      <td>1.0</td>\n",
       "      <td>Sat</td>\n",
       "      <td>2022-08-13</td>\n",
       "      <td>2022-2023</td>\n",
       "      <td>20:45</td>\n",
       "      <td>Lecce</td>\n",
       "      <td>1</td>\n",
       "      <td>Inter</td>\n",
       "      <td>2</td>\n",
       "      <td>Stadio Comunale Via Del Mare</td>\n",
       "      <td>Alessandro Prontera</td>\n",
       "      <td>-1</td>\n",
       "    </tr>\n",
       "    <tr>\n",
       "      <th>4</th>\n",
       "      <td>1.0</td>\n",
       "      <td>Sun</td>\n",
       "      <td>2022-08-14</td>\n",
       "      <td>2022-2023</td>\n",
       "      <td>18:30</td>\n",
       "      <td>Fiorentina</td>\n",
       "      <td>3</td>\n",
       "      <td>Cremonese</td>\n",
       "      <td>2</td>\n",
       "      <td>Stadio Artemio Franchi</td>\n",
       "      <td>Juan Sacchi</td>\n",
       "      <td>1</td>\n",
       "    </tr>\n",
       "  </tbody>\n",
       "</table>\n",
       "</div>"
      ],
      "text/plain": [
       "   Matchweek  Day       Date     Season   Time   home_team  home_score  \\\n",
       "0        1.0  Sat 2022-08-13  2022-2023  18:30   Sampdoria           0   \n",
       "1        1.0  Sat 2022-08-13  2022-2023  18:30       Milan           4   \n",
       "2        1.0  Sat 2022-08-13  2022-2023  20:45       Monza           1   \n",
       "3        1.0  Sat 2022-08-13  2022-2023  20:45       Lecce           1   \n",
       "4        1.0  Sun 2022-08-14  2022-2023  18:30  Fiorentina           3   \n",
       "\n",
       "   away_team  away_score                           Venue              Referee  \\\n",
       "0   Atalanta           2  Stadio Comunale Luigi Ferraris     Federico Dionisi   \n",
       "1    Udinese           2          Stadio Giuseppe Meazza      Livio Marinelli   \n",
       "2     Torino           2                 U-Power Stadium     Maurizio Mariani   \n",
       "3      Inter           2    Stadio Comunale Via Del Mare  Alessandro Prontera   \n",
       "4  Cremonese           2          Stadio Artemio Franchi          Juan Sacchi   \n",
       "\n",
       "   diff_score  \n",
       "0          -2  \n",
       "1           2  \n",
       "2          -1  \n",
       "3          -1  \n",
       "4           1  "
      ]
     },
     "execution_count": 5,
     "metadata": {},
     "output_type": "execute_result"
    }
   ],
   "source": [
    "ItaData.head()"
   ]
  },
  {
   "cell_type": "markdown",
   "id": "902ad134-ff9c-46f3-976e-9f4f61dfa873",
   "metadata": {},
   "source": [
    "Through view of 2 datasets, I can realize that the __these datasets__ based on\n",
    "+ __home_team__\n",
    "+ __home_score__\n",
    "+ __away_team__\n",
    "+ __away_score__\n",
    "\n",
    "Because __diff_score__ = __home_score__ - __away_score__, so it will mean that\n",
    "+ If __diff_score__ > 0 --> __Win__\n",
    "+ If __diff_score__ = 0 --> __Draw__\n",
    "+ If __diff_score__ < 0 --> __Lose__"
   ]
  },
  {
   "cell_type": "markdown",
   "id": "52d78d49-4adb-4df0-bd3e-a1c0f55ce1e2",
   "metadata": {},
   "source": [
    "### Analyzing each dataset"
   ]
  },
  {
   "cell_type": "code",
   "execution_count": 6,
   "id": "b4cbeb62-a376-49a9-bbb9-22381e36e653",
   "metadata": {},
   "outputs": [
    {
     "name": "stdout",
     "output_type": "stream",
     "text": [
      "<class 'pandas.core.frame.DataFrame'>\n",
      "RangeIndex: 663 entries, 0 to 662\n",
      "Data columns (total 12 columns):\n",
      " #   Column      Non-Null Count  Dtype         \n",
      "---  ------      --------------  -----         \n",
      " 0   Matchweek   663 non-null    int64         \n",
      " 1   Day         663 non-null    object        \n",
      " 2   Date        663 non-null    datetime64[ns]\n",
      " 3   Season      663 non-null    object        \n",
      " 4   Time        663 non-null    object        \n",
      " 5   home_team   663 non-null    object        \n",
      " 6   home_score  663 non-null    int64         \n",
      " 7   away_team   663 non-null    object        \n",
      " 8   away_score  663 non-null    int64         \n",
      " 9   Venue       663 non-null    object        \n",
      " 10  Referee     663 non-null    object        \n",
      " 11  diff_score  663 non-null    int64         \n",
      "dtypes: datetime64[ns](1), int64(4), object(7)\n",
      "memory usage: 62.3+ KB\n"
     ]
    }
   ],
   "source": [
    "EplData.info()"
   ]
  },
  {
   "cell_type": "markdown",
   "id": "92be315f-2911-42d6-baec-667fc00a344f",
   "metadata": {},
   "source": [
    "There is __no null value__ in each column with __663 matches__ in England football data."
   ]
  },
  {
   "cell_type": "code",
   "execution_count": 7,
   "id": "c83ed440-081e-4aaf-a7cb-612c46dab269",
   "metadata": {},
   "outputs": [
    {
     "name": "stdout",
     "output_type": "stream",
     "text": [
      "<class 'pandas.core.frame.DataFrame'>\n",
      "RangeIndex: 670 entries, 0 to 669\n",
      "Data columns (total 12 columns):\n",
      " #   Column      Non-Null Count  Dtype         \n",
      "---  ------      --------------  -----         \n",
      " 0   Matchweek   669 non-null    float64       \n",
      " 1   Day         670 non-null    object        \n",
      " 2   Date        670 non-null    datetime64[ns]\n",
      " 3   Season      670 non-null    object        \n",
      " 4   Time        670 non-null    object        \n",
      " 5   home_team   670 non-null    object        \n",
      " 6   home_score  670 non-null    int64         \n",
      " 7   away_team   670 non-null    object        \n",
      " 8   away_score  670 non-null    int64         \n",
      " 9   Venue       670 non-null    object        \n",
      " 10  Referee     670 non-null    object        \n",
      " 11  diff_score  670 non-null    int64         \n",
      "dtypes: datetime64[ns](1), float64(1), int64(3), object(7)\n",
      "memory usage: 62.9+ KB\n"
     ]
    }
   ],
   "source": [
    "ItaData.info()"
   ]
  },
  {
   "cell_type": "markdown",
   "id": "953db745-2b83-4de1-9cfa-7fd60a3d317a",
   "metadata": {},
   "source": [
    "With the dataset, __Matchweek__ has one null value and other fields haven't null values (__670 matches__)."
   ]
  },
  {
   "cell_type": "markdown",
   "id": "c1a96279-902e-4333-b099-801bb33f32a7",
   "metadata": {},
   "source": [
    "### Ploting histogram for these datasets.\n",
    "First, I will convert __diff_score__ into __target__ field:\n",
    "+ __Win__\n",
    "+ __Lose__\n",
    "+ __Draw__"
   ]
  },
  {
   "cell_type": "code",
   "execution_count": 8,
   "id": "edd0d104-653c-4934-ac68-aaac670cf6be",
   "metadata": {},
   "outputs": [],
   "source": [
    "def Convert_score_to_label(data):\n",
    "    label = []\n",
    "    for i in data:\n",
    "        if i > 0:\n",
    "            label.append(\"Win\")\n",
    "        elif i < 0:\n",
    "            label.append(\"Lose\")\n",
    "        else:\n",
    "            label.append(\"Draw\")\n",
    "    return label"
   ]
  },
  {
   "cell_type": "code",
   "execution_count": 9,
   "id": "802cfa0c-4c40-46ea-8af9-0be70007d653",
   "metadata": {},
   "outputs": [],
   "source": [
    "LabelEpl = Convert_score_to_label(EplData[\"diff_score\"])"
   ]
  },
  {
   "cell_type": "code",
   "execution_count": 10,
   "id": "7835b976-0f3d-4a54-95e7-cce9bc540517",
   "metadata": {},
   "outputs": [],
   "source": [
    "EplData.insert(len(EplData.columns),\"target\", LabelEpl)"
   ]
  },
  {
   "cell_type": "code",
   "execution_count": 11,
   "id": "4820cf34-341a-4662-8c9d-4f1de8782825",
   "metadata": {},
   "outputs": [
    {
     "data": {
      "text/html": [
       "<div>\n",
       "<style scoped>\n",
       "    .dataframe tbody tr th:only-of-type {\n",
       "        vertical-align: middle;\n",
       "    }\n",
       "\n",
       "    .dataframe tbody tr th {\n",
       "        vertical-align: top;\n",
       "    }\n",
       "\n",
       "    .dataframe thead th {\n",
       "        text-align: right;\n",
       "    }\n",
       "</style>\n",
       "<table border=\"1\" class=\"dataframe\">\n",
       "  <thead>\n",
       "    <tr style=\"text-align: right;\">\n",
       "      <th></th>\n",
       "      <th>Matchweek</th>\n",
       "      <th>Day</th>\n",
       "      <th>Date</th>\n",
       "      <th>Season</th>\n",
       "      <th>Time</th>\n",
       "      <th>home_team</th>\n",
       "      <th>home_score</th>\n",
       "      <th>away_team</th>\n",
       "      <th>away_score</th>\n",
       "      <th>Venue</th>\n",
       "      <th>Referee</th>\n",
       "      <th>diff_score</th>\n",
       "      <th>target</th>\n",
       "    </tr>\n",
       "  </thead>\n",
       "  <tbody>\n",
       "    <tr>\n",
       "      <th>0</th>\n",
       "      <td>1</td>\n",
       "      <td>Fri</td>\n",
       "      <td>2022-08-05</td>\n",
       "      <td>2022-2023</td>\n",
       "      <td>20:00</td>\n",
       "      <td>Crystal Palace</td>\n",
       "      <td>0</td>\n",
       "      <td>Arsenal</td>\n",
       "      <td>2</td>\n",
       "      <td>Selhurst Park</td>\n",
       "      <td>Anthony Taylor</td>\n",
       "      <td>-2</td>\n",
       "      <td>Lose</td>\n",
       "    </tr>\n",
       "    <tr>\n",
       "      <th>1</th>\n",
       "      <td>1</td>\n",
       "      <td>Sat</td>\n",
       "      <td>2022-08-06</td>\n",
       "      <td>2022-2023</td>\n",
       "      <td>12:30</td>\n",
       "      <td>Fulham</td>\n",
       "      <td>2</td>\n",
       "      <td>Liverpool</td>\n",
       "      <td>2</td>\n",
       "      <td>Craven Cottage</td>\n",
       "      <td>Andy Madley</td>\n",
       "      <td>0</td>\n",
       "      <td>Draw</td>\n",
       "    </tr>\n",
       "    <tr>\n",
       "      <th>2</th>\n",
       "      <td>1</td>\n",
       "      <td>Sat</td>\n",
       "      <td>2022-08-06</td>\n",
       "      <td>2022-2023</td>\n",
       "      <td>15:00</td>\n",
       "      <td>Tottenham</td>\n",
       "      <td>4</td>\n",
       "      <td>Southampton</td>\n",
       "      <td>1</td>\n",
       "      <td>Tottenham Hotspur Stadium</td>\n",
       "      <td>Andre Marriner</td>\n",
       "      <td>3</td>\n",
       "      <td>Win</td>\n",
       "    </tr>\n",
       "    <tr>\n",
       "      <th>3</th>\n",
       "      <td>1</td>\n",
       "      <td>Sat</td>\n",
       "      <td>2022-08-06</td>\n",
       "      <td>2022-2023</td>\n",
       "      <td>15:00</td>\n",
       "      <td>Newcastle United</td>\n",
       "      <td>2</td>\n",
       "      <td>Nottingham Forest</td>\n",
       "      <td>0</td>\n",
       "      <td>St James' Park</td>\n",
       "      <td>Simon Hooper</td>\n",
       "      <td>2</td>\n",
       "      <td>Win</td>\n",
       "    </tr>\n",
       "    <tr>\n",
       "      <th>4</th>\n",
       "      <td>1</td>\n",
       "      <td>Sat</td>\n",
       "      <td>2022-08-06</td>\n",
       "      <td>2022-2023</td>\n",
       "      <td>15:00</td>\n",
       "      <td>Leeds United</td>\n",
       "      <td>2</td>\n",
       "      <td>Wolves</td>\n",
       "      <td>1</td>\n",
       "      <td>Elland Road</td>\n",
       "      <td>Robert Jones</td>\n",
       "      <td>1</td>\n",
       "      <td>Win</td>\n",
       "    </tr>\n",
       "  </tbody>\n",
       "</table>\n",
       "</div>"
      ],
      "text/plain": [
       "   Matchweek  Day       Date     Season   Time         home_team  home_score  \\\n",
       "0          1  Fri 2022-08-05  2022-2023  20:00    Crystal Palace           0   \n",
       "1          1  Sat 2022-08-06  2022-2023  12:30            Fulham           2   \n",
       "2          1  Sat 2022-08-06  2022-2023  15:00         Tottenham           4   \n",
       "3          1  Sat 2022-08-06  2022-2023  15:00  Newcastle United           2   \n",
       "4          1  Sat 2022-08-06  2022-2023  15:00      Leeds United           2   \n",
       "\n",
       "           away_team  away_score                      Venue         Referee  \\\n",
       "0            Arsenal           2              Selhurst Park  Anthony Taylor   \n",
       "1          Liverpool           2             Craven Cottage     Andy Madley   \n",
       "2        Southampton           1  Tottenham Hotspur Stadium  Andre Marriner   \n",
       "3  Nottingham Forest           0             St James' Park    Simon Hooper   \n",
       "4             Wolves           1                Elland Road    Robert Jones   \n",
       "\n",
       "   diff_score target  \n",
       "0          -2   Lose  \n",
       "1           0   Draw  \n",
       "2           3    Win  \n",
       "3           2    Win  \n",
       "4           1    Win  "
      ]
     },
     "execution_count": 11,
     "metadata": {},
     "output_type": "execute_result"
    }
   ],
   "source": [
    "EplData.head()"
   ]
  },
  {
   "cell_type": "code",
   "execution_count": 12,
   "id": "a212ec32-692d-425a-9362-ab69cd54f0c0",
   "metadata": {},
   "outputs": [
    {
     "data": {
      "text/plain": [
       "(array([203.,   0.,   0.,   0.,   0., 146.,   0.,   0.,   0., 314.]),\n",
       " array([0. , 0.2, 0.4, 0.6, 0.8, 1. , 1.2, 1.4, 1.6, 1.8, 2. ]),\n",
       " <BarContainer object of 10 artists>)"
      ]
     },
     "execution_count": 12,
     "metadata": {},
     "output_type": "execute_result"
    },
    {
     "data": {
      "image/png": "[encoded data removed]",
      "text/plain": [
       "<Figure size 640x480 with 1 Axes>"
      ]
     },
     "metadata": {},
     "output_type": "display_data"
    }
   ],
   "source": [
    "plt.hist(EplData[\"target\"])"
   ]
  },
  {
   "cell_type": "code",
   "execution_count": 13,
   "id": "01a91c15-43e7-4560-bc9b-0da9c77b169a",
   "metadata": {},
   "outputs": [
    {
     "data": {
      "text/plain": [
       "target\n",
       "Win     314\n",
       "Lose    203\n",
       "Draw    146\n",
       "Name: count, dtype: int64"
      ]
     },
     "execution_count": 13,
     "metadata": {},
     "output_type": "execute_result"
    }
   ],
   "source": [
    "EplData.target.value_counts()"
   ]
  },
  {
   "cell_type": "code",
   "execution_count": 14,
   "id": "edc96eb6-054b-4976-9e81-b5f6bd2033ef",
   "metadata": {},
   "outputs": [],
   "source": [
    "LabelIta = Convert_score_to_label(ItaData[\"diff_score\"])"
   ]
  },
  {
   "cell_type": "code",
   "execution_count": 15,
   "id": "bc5ed0c1-9d37-48c5-82da-1aa71ce78c1a",
   "metadata": {},
   "outputs": [],
   "source": [
    "ItaData.insert(len(ItaData.columns),\"target\", LabelIta)"
   ]
  },
  {
   "cell_type": "code",
   "execution_count": 16,
   "id": "6af183bc-7b55-4026-a42b-2864af162149",
   "metadata": {},
   "outputs": [
    {
     "data": {
      "text/html": [
       "<div>\n",
       "<style scoped>\n",
       "    .dataframe tbody tr th:only-of-type {\n",
       "        vertical-align: middle;\n",
       "    }\n",
       "\n",
       "    .dataframe tbody tr th {\n",
       "        vertical-align: top;\n",
       "    }\n",
       "\n",
       "    .dataframe thead th {\n",
       "        text-align: right;\n",
       "    }\n",
       "</style>\n",
       "<table border=\"1\" class=\"dataframe\">\n",
       "  <thead>\n",
       "    <tr style=\"text-align: right;\">\n",
       "      <th></th>\n",
       "      <th>Matchweek</th>\n",
       "      <th>Day</th>\n",
       "      <th>Date</th>\n",
       "      <th>Season</th>\n",
       "      <th>Time</th>\n",
       "      <th>home_team</th>\n",
       "      <th>home_score</th>\n",
       "      <th>away_team</th>\n",
       "      <th>away_score</th>\n",
       "      <th>Venue</th>\n",
       "      <th>Referee</th>\n",
       "      <th>diff_score</th>\n",
       "      <th>target</th>\n",
       "    </tr>\n",
       "  </thead>\n",
       "  <tbody>\n",
       "    <tr>\n",
       "      <th>0</th>\n",
       "      <td>1.0</td>\n",
       "      <td>Sat</td>\n",
       "      <td>2022-08-13</td>\n",
       "      <td>2022-2023</td>\n",
       "      <td>18:30</td>\n",
       "      <td>Sampdoria</td>\n",
       "      <td>0</td>\n",
       "      <td>Atalanta</td>\n",
       "      <td>2</td>\n",
       "      <td>Stadio Comunale Luigi Ferraris</td>\n",
       "      <td>Federico Dionisi</td>\n",
       "      <td>-2</td>\n",
       "      <td>Lose</td>\n",
       "    </tr>\n",
       "    <tr>\n",
       "      <th>1</th>\n",
       "      <td>1.0</td>\n",
       "      <td>Sat</td>\n",
       "      <td>2022-08-13</td>\n",
       "      <td>2022-2023</td>\n",
       "      <td>18:30</td>\n",
       "      <td>Milan</td>\n",
       "      <td>4</td>\n",
       "      <td>Udinese</td>\n",
       "      <td>2</td>\n",
       "      <td>Stadio Giuseppe Meazza</td>\n",
       "      <td>Livio Marinelli</td>\n",
       "      <td>2</td>\n",
       "      <td>Win</td>\n",
       "    </tr>\n",
       "    <tr>\n",
       "      <th>2</th>\n",
       "      <td>1.0</td>\n",
       "      <td>Sat</td>\n",
       "      <td>2022-08-13</td>\n",
       "      <td>2022-2023</td>\n",
       "      <td>20:45</td>\n",
       "      <td>Monza</td>\n",
       "      <td>1</td>\n",
       "      <td>Torino</td>\n",
       "      <td>2</td>\n",
       "      <td>U-Power Stadium</td>\n",
       "      <td>Maurizio Mariani</td>\n",
       "      <td>-1</td>\n",
       "      <td>Lose</td>\n",
       "    </tr>\n",
       "    <tr>\n",
       "      <th>3</th>\n",
       "      <td>1.0</td>\n",
       "      <td>Sat</td>\n",
       "      <td>2022-08-13</td>\n",
       "      <td>2022-2023</td>\n",
       "      <td>20:45</td>\n",
       "      <td>Lecce</td>\n",
       "      <td>1</td>\n",
       "      <td>Inter</td>\n",
       "      <td>2</td>\n",
       "      <td>Stadio Comunale Via Del Mare</td>\n",
       "      <td>Alessandro Prontera</td>\n",
       "      <td>-1</td>\n",
       "      <td>Lose</td>\n",
       "    </tr>\n",
       "    <tr>\n",
       "      <th>4</th>\n",
       "      <td>1.0</td>\n",
       "      <td>Sun</td>\n",
       "      <td>2022-08-14</td>\n",
       "      <td>2022-2023</td>\n",
       "      <td>18:30</td>\n",
       "      <td>Fiorentina</td>\n",
       "      <td>3</td>\n",
       "      <td>Cremonese</td>\n",
       "      <td>2</td>\n",
       "      <td>Stadio Artemio Franchi</td>\n",
       "      <td>Juan Sacchi</td>\n",
       "      <td>1</td>\n",
       "      <td>Win</td>\n",
       "    </tr>\n",
       "  </tbody>\n",
       "</table>\n",
       "</div>"
      ],
      "text/plain": [
       "   Matchweek  Day       Date     Season   Time   home_team  home_score  \\\n",
       "0        1.0  Sat 2022-08-13  2022-2023  18:30   Sampdoria           0   \n",
       "1        1.0  Sat 2022-08-13  2022-2023  18:30       Milan           4   \n",
       "2        1.0  Sat 2022-08-13  2022-2023  20:45       Monza           1   \n",
       "3        1.0  Sat 2022-08-13  2022-2023  20:45       Lecce           1   \n",
       "4        1.0  Sun 2022-08-14  2022-2023  18:30  Fiorentina           3   \n",
       "\n",
       "   away_team  away_score                           Venue              Referee  \\\n",
       "0   Atalanta           2  Stadio Comunale Luigi Ferraris     Federico Dionisi   \n",
       "1    Udinese           2          Stadio Giuseppe Meazza      Livio Marinelli   \n",
       "2     Torino           2                 U-Power Stadium     Maurizio Mariani   \n",
       "3      Inter           2    Stadio Comunale Via Del Mare  Alessandro Prontera   \n",
       "4  Cremonese           2          Stadio Artemio Franchi          Juan Sacchi   \n",
       "\n",
       "   diff_score target  \n",
       "0          -2   Lose  \n",
       "1           2    Win  \n",
       "2          -1   Lose  \n",
       "3          -1   Lose  \n",
       "4           1    Win  "
      ]
     },
     "execution_count": 16,
     "metadata": {},
     "output_type": "execute_result"
    }
   ],
   "source": [
    "ItaData.head()"
   ]
  },
  {
   "cell_type": "code",
   "execution_count": 17,
   "id": "620d0506-abcd-4a07-9bcd-4aa2d5dfa9c5",
   "metadata": {},
   "outputs": [
    {
     "data": {
      "text/plain": [
       "(array([205.,   0.,   0.,   0.,   0., 288.,   0.,   0.,   0., 177.]),\n",
       " array([0. , 0.2, 0.4, 0.6, 0.8, 1. , 1.2, 1.4, 1.6, 1.8, 2. ]),\n",
       " <BarContainer object of 10 artists>)"
      ]
     },
     "execution_count": 17,
     "metadata": {},
     "output_type": "execute_result"
    },
    {
     "data": {
      "image/png": "[encoded data removed]",
      "text/plain": [
       "<Figure size 640x480 with 1 Axes>"
      ]
     },
     "metadata": {},
     "output_type": "display_data"
    }
   ],
   "source": [
    "plt.hist(ItaData[\"target\"])"
   ]
  },
  {
   "cell_type": "code",
   "execution_count": 18,
   "id": "d473722b-bdee-411b-a2e0-2a4fdb991ec1",
   "metadata": {},
   "outputs": [
    {
     "data": {
      "text/plain": [
       "target\n",
       "Win     288\n",
       "Lose    205\n",
       "Draw    177\n",
       "Name: count, dtype: int64"
      ]
     },
     "execution_count": 18,
     "metadata": {},
     "output_type": "execute_result"
    }
   ],
   "source": [
    "ItaData.target.value_counts()"
   ]
  },
  {
   "cell_type": "code",
   "execution_count": 19,
   "id": "f001a11b-0217-402e-8f7b-86e778175ead",
   "metadata": {},
   "outputs": [
    {
     "data": {
      "image/png": "[encoded data removed]",
      "text/plain": [
       "<Figure size 640x480 with 2 Axes>"
      ]
     },
     "metadata": {},
     "output_type": "display_data"
    }
   ],
   "source": [
    "fig, ax = plt.subplots(nrows=1, ncols=2)\n",
    "ax[0].hist(EplData.target)\n",
    "ax[1].hist(ItaData.target)\n",
    " \n",
    "# plot 2 subplots\n",
    "ax[0].set_title('Hist of England football matches')\n",
    "ax[1].set_title('Hist of Italy football matches')\n",
    " \n",
    "fig.suptitle('Stacked subplots in one direction')\n",
    "plt.show()"
   ]
  },
  {
   "cell_type": "markdown",
   "id": "15a47580-9c54-49ed-8cb5-e9df14ceffb3",
   "metadata": {},
   "source": [
    "__Analysis__: I can realize that the England football matches are more iteresting than Italy football matches, because:\n",
    "+ __Win__ (England football matches) > __Win__ (Italy football matches)\n",
    "+ __Lose__ (Epl Data) < __Lose__ (ItaData)\n",
    "+ __Draw__ (Epl Data) < __Draw__ (ItaData) \\\n",
    "Eventhough, the number of matches in Italy matches is larger than England matches."
   ]
  },
  {
   "cell_type": "markdown",
   "id": "9ffd4c06-6dca-46f8-9fcb-0ef99f919a05",
   "metadata": {},
   "source": [
    "### Deep dive into each dataset.\n",
    "Firstly, I will analyze deeply England football matches."
   ]
  },
  {
   "cell_type": "code",
   "execution_count": 20,
   "id": "714d4b2a-8b43-4df0-83fb-3eaf86133cf9",
   "metadata": {},
   "outputs": [
    {
     "data": {
      "text/plain": [
       "array(['Crystal Palace', 'Fulham', 'Tottenham', 'Newcastle United',\n",
       "       'Leeds United', 'Bournemouth', 'Everton', 'Leicester City',\n",
       "       'Manchester United', 'West Ham United', 'Aston Villa',\n",
       "       'Manchester City', 'Southampton', 'Wolves', 'Arsenal', 'Brighton',\n",
       "       'Brentford', 'Nottingham Forest', 'Chelsea', 'Liverpool',\n",
       "       'Burnley', 'Sheffield United', 'Luton Town'], dtype=object)"
      ]
     },
     "execution_count": 20,
     "metadata": {},
     "output_type": "execute_result"
    }
   ],
   "source": [
    "EplData.home_team.unique()"
   ]
  },
  {
   "cell_type": "code",
   "execution_count": 21,
   "id": "54a8673e-ae14-424e-b840-c8e1e27febd3",
   "metadata": {},
   "outputs": [
    {
     "data": {
      "text/plain": [
       "23"
      ]
     },
     "execution_count": 21,
     "metadata": {},
     "output_type": "execute_result"
    }
   ],
   "source": [
    "num_home_team_Epl = len(EplData.home_team.unique())\n",
    "num_home_team_Epl"
   ]
  },
  {
   "cell_type": "markdown",
   "id": "b760bbac-e069-4ab7-ade3-881782c4e38a",
   "metadata": {},
   "source": [
    "__Analysis__: There are 23 football team in the dataset. \\\n",
    "## __Another analysis__:\n",
    "\n",
    "I will check how many __Win/ Lose/ Draw/__ in each team (__home_team__) in the dataset"
   ]
  },
  {
   "cell_type": "code",
   "execution_count": 22,
   "id": "7f25e5df-cac9-4b31-9448-0930edfc9534",
   "metadata": {},
   "outputs": [
    {
     "data": {
      "text/plain": [
       "home_team\n",
       "Manchester City      27\n",
       "Arsenal              25\n",
       "Liverpool            24\n",
       "Manchester United    23\n",
       "Tottenham            22\n",
       "Aston Villa          22\n",
       "Newcastle United     20\n",
       "Fulham               17\n",
       "Brighton             17\n",
       "Wolves               16\n",
       "West Ham United      14\n",
       "Brentford            14\n",
       "Nottingham Forest    12\n",
       "Chelsea              12\n",
       "Crystal Palace       11\n",
       "Bournemouth          10\n",
       "Everton               9\n",
       "Leicester City        5\n",
       "Leeds United          5\n",
       "Luton Town            3\n",
       "Southampton           2\n",
       "Sheffield United      2\n",
       "Burnley               2\n",
       "Name: count, dtype: int64"
      ]
     },
     "execution_count": 22,
     "metadata": {},
     "output_type": "execute_result"
    }
   ],
   "source": [
    "win_home_team_Epl = EplData[EplData[\"target\"]==\"Win\"].home_team.value_counts()\n",
    "win_home_team_Epl"
   ]
  },
  {
   "cell_type": "code",
   "execution_count": 23,
   "id": "b7b54421-fd47-4c8b-aa61-38712897338e",
   "metadata": {},
   "outputs": [
    {
     "data": {
      "text/plain": [
       "home_team\n",
       "Brentford            11\n",
       "Crystal Palace       11\n",
       "West Ham United      10\n",
       "Brighton             10\n",
       "Chelsea              10\n",
       "Bournemouth           9\n",
       "Nottingham Forest     9\n",
       "Liverpool             8\n",
       "Newcastle United      8\n",
       "Leeds United          7\n",
       "Everton               7\n",
       "Fulham                6\n",
       "Wolves                6\n",
       "Southampton           5\n",
       "Manchester City       5\n",
       "Arsenal               5\n",
       "Leicester City        4\n",
       "Manchester United     4\n",
       "Aston Villa           3\n",
       "Luton Town            3\n",
       "Sheffield United      2\n",
       "Burnley               2\n",
       "Tottenham             1\n",
       "Name: count, dtype: int64"
      ]
     },
     "execution_count": 23,
     "metadata": {},
     "output_type": "execute_result"
    }
   ],
   "source": [
    "draw_home_team_Epl = EplData[EplData[\"target\"]==\"Draw\"].home_team.value_counts()\n",
    "draw_home_team_Epl"
   ]
  },
  {
   "cell_type": "code",
   "execution_count": 24,
   "id": "71ae3104-1e60-488e-b14e-0e011573d5ff",
   "metadata": {},
   "outputs": [
    {
     "data": {
      "text/plain": [
       "home_team\n",
       "Everton              17\n",
       "Bournemouth          14\n",
       "Nottingham Forest    12\n",
       "Southampton          12\n",
       "Crystal Palace       11\n",
       "Burnley              11\n",
       "Wolves               11\n",
       "Fulham               11\n",
       "Leicester City       10\n",
       "West Ham United      10\n",
       "Tottenham            10\n",
       "Chelsea              10\n",
       "Sheffield United     10\n",
       "Luton Town            9\n",
       "Aston Villa           8\n",
       "Brentford             8\n",
       "Leeds United          7\n",
       "Brighton              6\n",
       "Manchester United     6\n",
       "Newcastle United      5\n",
       "Arsenal               3\n",
       "Liverpool             1\n",
       "Manchester City       1\n",
       "Name: count, dtype: int64"
      ]
     },
     "execution_count": 24,
     "metadata": {},
     "output_type": "execute_result"
    }
   ],
   "source": [
    "lose_home_team_Epl = EplData[EplData[\"target\"]==\"Lose\"].home_team.value_counts()\n",
    "lose_home_team_Epl"
   ]
  },
  {
   "cell_type": "code",
   "execution_count": 25,
   "id": "5e208eec-e26e-445e-8451-fa7de8eb1dd2",
   "metadata": {},
   "outputs": [
    {
     "data": {
      "image/png": "[encoded data removed]",
      "text/plain": [
       "<Figure size 640x480 with 1 Axes>"
      ]
     },
     "metadata": {},
     "output_type": "display_data"
    }
   ],
   "source": [
    "df_Epl = pd.DataFrame({'win': win_home_team_Epl, 'lose': lose_home_team_Epl, 'draw': draw_home_team_Epl})\n",
    "ax = df_Epl.plot.bar()"
   ]
  },
  {
   "cell_type": "code",
   "execution_count": 26,
   "id": "7511a835-36c4-40e2-ad5a-868a33a1a5ff",
   "metadata": {},
   "outputs": [
    {
     "data": {
      "text/plain": [
       "home_team\n",
       "Inter            26\n",
       "Milan            23\n",
       "Juventus         22\n",
       "Roma             21\n",
       "Napoli           20\n",
       "Atalanta         20\n",
       "Bologna          18\n",
       "Fiorentina       17\n",
       "Lazio            17\n",
       "Monza            13\n",
       "Sassuolo         12\n",
       "Torino           11\n",
       "Hellas Verona    10\n",
       "Empoli           10\n",
       "Salernitana       8\n",
       "Lecce             8\n",
       "Udinese           7\n",
       "Frosinone         6\n",
       "Genoa             5\n",
       "Cagliari          5\n",
       "Spezia            4\n",
       "Cremonese         4\n",
       "Sampdoria         1\n",
       "Name: count, dtype: int64"
      ]
     },
     "execution_count": 26,
     "metadata": {},
     "output_type": "execute_result"
    }
   ],
   "source": [
    "win_home_team_Ita = ItaData[ItaData[\"target\"]==\"Win\"].home_team.value_counts()\n",
    "win_home_team_Ita"
   ]
  },
  {
   "cell_type": "code",
   "execution_count": 27,
   "id": "b2cf5885-dd19-4ccb-bb44-2006ab139ed1",
   "metadata": {},
   "outputs": [
    {
     "data": {
      "text/plain": [
       "home_team\n",
       "Udinese          18\n",
       "Torino           13\n",
       "Lecce            12\n",
       "Bologna          11\n",
       "Salernitana      10\n",
       "Monza            10\n",
       "Fiorentina        9\n",
       "Empoli            8\n",
       "Hellas Verona     8\n",
       "Juventus          8\n",
       "Spezia            8\n",
       "Lazio             7\n",
       "Napoli            7\n",
       "Sassuolo          7\n",
       "Sampdoria         7\n",
       "Roma              6\n",
       "Milan             6\n",
       "Genoa             5\n",
       "Cremonese         4\n",
       "Atalanta          4\n",
       "Cagliari          4\n",
       "Frosinone         3\n",
       "Inter             2\n",
       "Name: count, dtype: int64"
      ]
     },
     "execution_count": 27,
     "metadata": {},
     "output_type": "execute_result"
    }
   ],
   "source": [
    "draw_home_team_Ita = ItaData[ItaData[\"target\"]==\"Draw\"].home_team.value_counts()\n",
    "draw_home_team_Ita"
   ]
  },
  {
   "cell_type": "code",
   "execution_count": 28,
   "id": "7d22fa3a-c373-4592-8497-02823673b45b",
   "metadata": {},
   "outputs": [
    {
     "data": {
      "text/plain": [
       "home_team\n",
       "Salernitana      16\n",
       "Empoli           16\n",
       "Hellas Verona    15\n",
       "Sassuolo         14\n",
       "Lecce            13\n",
       "Sampdoria        11\n",
       "Cremonese        11\n",
       "Monza            11\n",
       "Lazio             9\n",
       "Torino            9\n",
       "Atalanta          9\n",
       "Udinese           9\n",
       "Spezia            8\n",
       "Fiorentina        7\n",
       "Roma              7\n",
       "Inter             6\n",
       "Napoli            6\n",
       "Frosinone         6\n",
       "Bologna           5\n",
       "Cagliari          5\n",
       "Milan             4\n",
       "Juventus          4\n",
       "Genoa             4\n",
       "Name: count, dtype: int64"
      ]
     },
     "execution_count": 28,
     "metadata": {},
     "output_type": "execute_result"
    }
   ],
   "source": [
    "lose_home_team_Ita = ItaData[ItaData[\"target\"]==\"Lose\"].home_team.value_counts()\n",
    "lose_home_team_Ita"
   ]
  },
  {
   "cell_type": "code",
   "execution_count": 29,
   "id": "087fa1b4-8c27-42eb-a16d-d4ef3611143e",
   "metadata": {},
   "outputs": [
    {
     "data": {
      "image/png": "[encoded data removed]",
      "text/plain": [
       "<Figure size 640x480 with 1 Axes>"
      ]
     },
     "metadata": {},
     "output_type": "display_data"
    }
   ],
   "source": [
    "df_Ita = pd.DataFrame({'win': win_home_team_Ita, 'lose': lose_home_team_Ita, 'draw': draw_home_team_Ita})\n",
    "ax = df_Ita.plot.bar()"
   ]
  },
  {
   "cell_type": "markdown",
   "id": "5aba09a8-a2a5-40b2-b92d-2b0653060489",
   "metadata": {},
   "source": [
    "### Analysis of the number of matches in each season\n",
    "\n",
    "In each season, each team has __38 matches__ including home and away matches for England and Italy footbatch matches. As I said that the dataset is based on __home_team__, it means that we can check each team will have __19 matches__.\n",
    "+ Check how many season in the dataset.\n",
    "+ Check how many match of each team in one season"
   ]
  },
  {
   "cell_type": "code",
   "execution_count": 30,
   "id": "e5c0a796-7e98-4ffa-9f78-ebdcf9ee856c",
   "metadata": {},
   "outputs": [
    {
     "data": {
      "text/plain": [
       "Season\n",
       "2022-2023    380\n",
       "2023-2024    283\n",
       "Name: count, dtype: int64"
      ]
     },
     "execution_count": 30,
     "metadata": {},
     "output_type": "execute_result"
    }
   ],
   "source": [
    "EplData.Season.value_counts()"
   ]
  },
  {
   "cell_type": "code",
   "execution_count": 31,
   "id": "dd5bf85f-18a6-4cbf-b9a1-6a8e6a15c882",
   "metadata": {},
   "outputs": [
    {
     "data": {
      "text/plain": [
       "home_team\n",
       "Crystal Palace       19\n",
       "Fulham               19\n",
       "Chelsea              19\n",
       "Nottingham Forest    19\n",
       "Brentford            19\n",
       "Brighton             19\n",
       "Arsenal              19\n",
       "Wolves               19\n",
       "Southampton          19\n",
       "Manchester City      19\n",
       "Aston Villa          19\n",
       "West Ham United      19\n",
       "Manchester United    19\n",
       "Leicester City       19\n",
       "Everton              19\n",
       "Bournemouth          19\n",
       "Leeds United         19\n",
       "Newcastle United     19\n",
       "Tottenham            19\n",
       "Liverpool            19\n",
       "Name: count, dtype: int64"
      ]
     },
     "execution_count": 31,
     "metadata": {},
     "output_type": "execute_result"
    }
   ],
   "source": [
    "EplData[EplData[\"Season\"]==\"2022-2023\"].home_team.value_counts()"
   ]
  },
  {
   "cell_type": "code",
   "execution_count": 32,
   "id": "a458555b-2394-493b-b121-fffb6874c55c",
   "metadata": {},
   "outputs": [
    {
     "data": {
      "text/plain": [
       "home_team\n",
       "Burnley              15\n",
       "Fulham               15\n",
       "West Ham United      15\n",
       "Luton Town           15\n",
       "Brighton             14\n",
       "Bournemouth          14\n",
       "Newcastle United     14\n",
       "Brentford            14\n",
       "Manchester United    14\n",
       "Arsenal              14\n",
       "Sheffield United     14\n",
       "Liverpool            14\n",
       "Wolves               14\n",
       "Tottenham            14\n",
       "Manchester City      14\n",
       "Aston Villa          14\n",
       "Everton              14\n",
       "Crystal Palace       14\n",
       "Nottingham Forest    14\n",
       "Chelsea              13\n",
       "Name: count, dtype: int64"
      ]
     },
     "execution_count": 32,
     "metadata": {},
     "output_type": "execute_result"
    }
   ],
   "source": [
    "EplData[EplData[\"Season\"]==\"2023-2024\"].home_team.value_counts()"
   ]
  },
  {
   "cell_type": "markdown",
   "id": "ab3382d2-80e4-41e6-9769-654772b2c117",
   "metadata": {},
   "source": [
    "Through the analysis:\n",
    "+ __2022- 2023__ has a full of matches data\n",
    "+ __2023- 2024__ has not a full of matches data \\\n",
    "Therefore, it means that the England Football Matches dataset is not full information for 2 seasons. \\\n",
    "Next, check the ItaData for Italy football matches."
   ]
  },
  {
   "cell_type": "code",
   "execution_count": 33,
   "id": "d73bb149-b6f2-401a-a848-379c92b7de6f",
   "metadata": {},
   "outputs": [
    {
     "data": {
      "text/plain": [
       "Season\n",
       "2022-2023    381\n",
       "2023-2024    289\n",
       "Name: count, dtype: int64"
      ]
     },
     "execution_count": 33,
     "metadata": {},
     "output_type": "execute_result"
    }
   ],
   "source": [
    "ItaData.Season.value_counts()"
   ]
  },
  {
   "cell_type": "code",
   "execution_count": 34,
   "id": "3f0a98ce-f978-407d-89f5-ea72c0f3b818",
   "metadata": {},
   "outputs": [
    {
     "data": {
      "text/plain": [
       "home_team\n",
       "Spezia           20\n",
       "Sampdoria        19\n",
       "Udinese          19\n",
       "Roma             19\n",
       "Atalanta         19\n",
       "Bologna          19\n",
       "Napoli           19\n",
       "Empoli           19\n",
       "Sassuolo         19\n",
       "Inter            19\n",
       "Torino           19\n",
       "Milan            19\n",
       "Juventus         19\n",
       "Hellas Verona    19\n",
       "Salernitana      19\n",
       "Lazio            19\n",
       "Fiorentina       19\n",
       "Lecce            19\n",
       "Monza            19\n",
       "Cremonese        19\n",
       "Name: count, dtype: int64"
      ]
     },
     "execution_count": 34,
     "metadata": {},
     "output_type": "execute_result"
    }
   ],
   "source": [
    "ItaData[ItaData[\"Season\"]==\"2022-2023\"].home_team.value_counts()"
   ]
  },
  {
   "cell_type": "code",
   "execution_count": 35,
   "id": "e26c2856-fd2c-4578-8aad-d7aa4a1d4aee",
   "metadata": {},
   "outputs": [
    {
     "data": {
      "text/html": [
       "<div>\n",
       "<style scoped>\n",
       "    .dataframe tbody tr th:only-of-type {\n",
       "        vertical-align: middle;\n",
       "    }\n",
       "\n",
       "    .dataframe tbody tr th {\n",
       "        vertical-align: top;\n",
       "    }\n",
       "\n",
       "    .dataframe thead th {\n",
       "        text-align: right;\n",
       "    }\n",
       "</style>\n",
       "<table border=\"1\" class=\"dataframe\">\n",
       "  <thead>\n",
       "    <tr style=\"text-align: right;\">\n",
       "      <th></th>\n",
       "      <th>Matchweek</th>\n",
       "      <th>Day</th>\n",
       "      <th>Date</th>\n",
       "      <th>Season</th>\n",
       "      <th>Time</th>\n",
       "      <th>home_team</th>\n",
       "      <th>home_score</th>\n",
       "      <th>away_team</th>\n",
       "      <th>away_score</th>\n",
       "      <th>Venue</th>\n",
       "      <th>Referee</th>\n",
       "      <th>diff_score</th>\n",
       "      <th>target</th>\n",
       "    </tr>\n",
       "  </thead>\n",
       "  <tbody>\n",
       "    <tr>\n",
       "      <th>6</th>\n",
       "      <td>1.0</td>\n",
       "      <td>Sun</td>\n",
       "      <td>2022-08-14</td>\n",
       "      <td>2022-2023</td>\n",
       "      <td>20:45</td>\n",
       "      <td>Spezia</td>\n",
       "      <td>1</td>\n",
       "      <td>Empoli</td>\n",
       "      <td>0</td>\n",
       "      <td>Stadio Alberto Picco</td>\n",
       "      <td>Daniele Chiffi</td>\n",
       "      <td>1</td>\n",
       "      <td>Win</td>\n",
       "    </tr>\n",
       "    <tr>\n",
       "      <th>25</th>\n",
       "      <td>3.0</td>\n",
       "      <td>Sat</td>\n",
       "      <td>2022-08-27</td>\n",
       "      <td>2022-2023</td>\n",
       "      <td>20:45</td>\n",
       "      <td>Spezia</td>\n",
       "      <td>2</td>\n",
       "      <td>Sassuolo</td>\n",
       "      <td>2</td>\n",
       "      <td>Stadio Alberto Picco</td>\n",
       "      <td>Francesco Cosso</td>\n",
       "      <td>0</td>\n",
       "      <td>Draw</td>\n",
       "    </tr>\n",
       "    <tr>\n",
       "      <th>44</th>\n",
       "      <td>5.0</td>\n",
       "      <td>Sun</td>\n",
       "      <td>2022-09-04</td>\n",
       "      <td>2022-2023</td>\n",
       "      <td>15:00</td>\n",
       "      <td>Spezia</td>\n",
       "      <td>2</td>\n",
       "      <td>Bologna</td>\n",
       "      <td>2</td>\n",
       "      <td>Stadio Alberto Picco</td>\n",
       "      <td>Antonio Giua</td>\n",
       "      <td>0</td>\n",
       "      <td>Draw</td>\n",
       "    </tr>\n",
       "    <tr>\n",
       "      <th>62</th>\n",
       "      <td>7.0</td>\n",
       "      <td>Sat</td>\n",
       "      <td>2022-09-17</td>\n",
       "      <td>2022-2023</td>\n",
       "      <td>18:00</td>\n",
       "      <td>Spezia</td>\n",
       "      <td>2</td>\n",
       "      <td>Sampdoria</td>\n",
       "      <td>1</td>\n",
       "      <td>Stadio Alberto Picco</td>\n",
       "      <td>Simone Sozza</td>\n",
       "      <td>1</td>\n",
       "      <td>Win</td>\n",
       "    </tr>\n",
       "    <tr>\n",
       "      <th>95</th>\n",
       "      <td>10.0</td>\n",
       "      <td>Sun</td>\n",
       "      <td>2022-10-16</td>\n",
       "      <td>2022-2023</td>\n",
       "      <td>15:00</td>\n",
       "      <td>Spezia</td>\n",
       "      <td>2</td>\n",
       "      <td>Cremonese</td>\n",
       "      <td>2</td>\n",
       "      <td>Stadio Alberto Picco</td>\n",
       "      <td>Gianluca Manganiello</td>\n",
       "      <td>0</td>\n",
       "      <td>Draw</td>\n",
       "    </tr>\n",
       "    <tr>\n",
       "      <th>114</th>\n",
       "      <td>12.0</td>\n",
       "      <td>Sun</td>\n",
       "      <td>2022-10-30</td>\n",
       "      <td>2022-2023</td>\n",
       "      <td>15:00</td>\n",
       "      <td>Spezia</td>\n",
       "      <td>1</td>\n",
       "      <td>Fiorentina</td>\n",
       "      <td>2</td>\n",
       "      <td>Stadio Alberto Picco</td>\n",
       "      <td>Davide Massa</td>\n",
       "      <td>-1</td>\n",
       "      <td>Lose</td>\n",
       "    </tr>\n",
       "    <tr>\n",
       "      <th>131</th>\n",
       "      <td>14.0</td>\n",
       "      <td>Tue</td>\n",
       "      <td>2022-11-08</td>\n",
       "      <td>2022-2023</td>\n",
       "      <td>18:30</td>\n",
       "      <td>Spezia</td>\n",
       "      <td>1</td>\n",
       "      <td>Udinese</td>\n",
       "      <td>1</td>\n",
       "      <td>Stadio Alberto Picco</td>\n",
       "      <td>Marco Piccinini</td>\n",
       "      <td>0</td>\n",
       "      <td>Draw</td>\n",
       "    </tr>\n",
       "    <tr>\n",
       "      <th>152</th>\n",
       "      <td>16.0</td>\n",
       "      <td>Wed</td>\n",
       "      <td>2023-01-04</td>\n",
       "      <td>2022-2023</td>\n",
       "      <td>14:30</td>\n",
       "      <td>Spezia</td>\n",
       "      <td>2</td>\n",
       "      <td>Atalanta</td>\n",
       "      <td>2</td>\n",
       "      <td>Stadio Alberto Picco</td>\n",
       "      <td>Antonio Giua</td>\n",
       "      <td>0</td>\n",
       "      <td>Draw</td>\n",
       "    </tr>\n",
       "    <tr>\n",
       "      <th>164</th>\n",
       "      <td>17.0</td>\n",
       "      <td>Sun</td>\n",
       "      <td>2023-01-08</td>\n",
       "      <td>2022-2023</td>\n",
       "      <td>15:00</td>\n",
       "      <td>Spezia</td>\n",
       "      <td>0</td>\n",
       "      <td>Lecce</td>\n",
       "      <td>0</td>\n",
       "      <td>Stadio Alberto Picco</td>\n",
       "      <td>Daniele Chiffi</td>\n",
       "      <td>0</td>\n",
       "      <td>Draw</td>\n",
       "    </tr>\n",
       "    <tr>\n",
       "      <th>185</th>\n",
       "      <td>19.0</td>\n",
       "      <td>Sun</td>\n",
       "      <td>2023-01-22</td>\n",
       "      <td>2022-2023</td>\n",
       "      <td>18:00</td>\n",
       "      <td>Spezia</td>\n",
       "      <td>0</td>\n",
       "      <td>Roma</td>\n",
       "      <td>2</td>\n",
       "      <td>Stadio Alberto Picco</td>\n",
       "      <td>Simone Sozza</td>\n",
       "      <td>-2</td>\n",
       "      <td>Lose</td>\n",
       "    </tr>\n",
       "    <tr>\n",
       "      <th>203</th>\n",
       "      <td>21.0</td>\n",
       "      <td>Sun</td>\n",
       "      <td>2023-02-05</td>\n",
       "      <td>2022-2023</td>\n",
       "      <td>12:30</td>\n",
       "      <td>Spezia</td>\n",
       "      <td>0</td>\n",
       "      <td>Napoli</td>\n",
       "      <td>3</td>\n",
       "      <td>Stadio Alberto Picco</td>\n",
       "      <td>Marco Di Bello</td>\n",
       "      <td>-3</td>\n",
       "      <td>Lose</td>\n",
       "    </tr>\n",
       "    <tr>\n",
       "      <th>227</th>\n",
       "      <td>23.0</td>\n",
       "      <td>Sun</td>\n",
       "      <td>2023-02-19</td>\n",
       "      <td>2022-2023</td>\n",
       "      <td>18:00</td>\n",
       "      <td>Spezia</td>\n",
       "      <td>0</td>\n",
       "      <td>Juventus</td>\n",
       "      <td>2</td>\n",
       "      <td>Stadio Alberto Picco</td>\n",
       "      <td>Federico La Penna</td>\n",
       "      <td>-2</td>\n",
       "      <td>Lose</td>\n",
       "    </tr>\n",
       "    <tr>\n",
       "      <th>244</th>\n",
       "      <td>25.0</td>\n",
       "      <td>Sun</td>\n",
       "      <td>2023-03-05</td>\n",
       "      <td>2022-2023</td>\n",
       "      <td>12:30</td>\n",
       "      <td>Spezia</td>\n",
       "      <td>0</td>\n",
       "      <td>Hellas Verona</td>\n",
       "      <td>0</td>\n",
       "      <td>Stadio Alberto Picco</td>\n",
       "      <td>Daniele Doveri</td>\n",
       "      <td>0</td>\n",
       "      <td>Draw</td>\n",
       "    </tr>\n",
       "    <tr>\n",
       "      <th>250</th>\n",
       "      <td>26.0</td>\n",
       "      <td>Fri</td>\n",
       "      <td>2023-03-10</td>\n",
       "      <td>2022-2023</td>\n",
       "      <td>20:45</td>\n",
       "      <td>Spezia</td>\n",
       "      <td>2</td>\n",
       "      <td>Inter</td>\n",
       "      <td>1</td>\n",
       "      <td>Stadio Alberto Picco</td>\n",
       "      <td>Livio Marinelli</td>\n",
       "      <td>1</td>\n",
       "      <td>Win</td>\n",
       "    </tr>\n",
       "    <tr>\n",
       "      <th>274</th>\n",
       "      <td>28.0</td>\n",
       "      <td>Sun</td>\n",
       "      <td>2023-04-02</td>\n",
       "      <td>2022-2023</td>\n",
       "      <td>15:00</td>\n",
       "      <td>Spezia</td>\n",
       "      <td>1</td>\n",
       "      <td>Salernitana</td>\n",
       "      <td>1</td>\n",
       "      <td>Stadio Alberto Picco</td>\n",
       "      <td>Daniele Orsato</td>\n",
       "      <td>0</td>\n",
       "      <td>Draw</td>\n",
       "    </tr>\n",
       "    <tr>\n",
       "      <th>291</th>\n",
       "      <td>30.0</td>\n",
       "      <td>Fri</td>\n",
       "      <td>2023-04-14</td>\n",
       "      <td>2022-2023</td>\n",
       "      <td>20:45</td>\n",
       "      <td>Spezia</td>\n",
       "      <td>0</td>\n",
       "      <td>Lazio</td>\n",
       "      <td>3</td>\n",
       "      <td>Stadio Alberto Picco</td>\n",
       "      <td>Massimiliano Irrati</td>\n",
       "      <td>-3</td>\n",
       "      <td>Lose</td>\n",
       "    </tr>\n",
       "    <tr>\n",
       "      <th>311</th>\n",
       "      <td>32.0</td>\n",
       "      <td>Fri</td>\n",
       "      <td>2023-04-28</td>\n",
       "      <td>2022-2023</td>\n",
       "      <td>20:45</td>\n",
       "      <td>Spezia</td>\n",
       "      <td>0</td>\n",
       "      <td>Monza</td>\n",
       "      <td>2</td>\n",
       "      <td>Stadio Alberto Picco</td>\n",
       "      <td>Antonio Rapuano</td>\n",
       "      <td>-2</td>\n",
       "      <td>Lose</td>\n",
       "    </tr>\n",
       "    <tr>\n",
       "      <th>342</th>\n",
       "      <td>35.0</td>\n",
       "      <td>Sat</td>\n",
       "      <td>2023-05-13</td>\n",
       "      <td>2022-2023</td>\n",
       "      <td>18:00</td>\n",
       "      <td>Spezia</td>\n",
       "      <td>2</td>\n",
       "      <td>Milan</td>\n",
       "      <td>0</td>\n",
       "      <td>Stadio Alberto Picco</td>\n",
       "      <td>Daniele Doveri</td>\n",
       "      <td>2</td>\n",
       "      <td>Win</td>\n",
       "    </tr>\n",
       "    <tr>\n",
       "      <th>361</th>\n",
       "      <td>37.0</td>\n",
       "      <td>Sat</td>\n",
       "      <td>2023-05-27</td>\n",
       "      <td>2022-2023</td>\n",
       "      <td>15:00</td>\n",
       "      <td>Spezia</td>\n",
       "      <td>0</td>\n",
       "      <td>Torino</td>\n",
       "      <td>4</td>\n",
       "      <td>Stadio Alberto Picco</td>\n",
       "      <td>Marco Guida</td>\n",
       "      <td>-4</td>\n",
       "      <td>Lose</td>\n",
       "    </tr>\n",
       "    <tr>\n",
       "      <th>380</th>\n",
       "      <td>NaN</td>\n",
       "      <td>Sun</td>\n",
       "      <td>2023-06-11</td>\n",
       "      <td>2022-2023</td>\n",
       "      <td>20:45</td>\n",
       "      <td>Spezia</td>\n",
       "      <td>1</td>\n",
       "      <td>Hellas Verona</td>\n",
       "      <td>3</td>\n",
       "      <td>Dacia Arena</td>\n",
       "      <td>Daniele Orsato</td>\n",
       "      <td>-2</td>\n",
       "      <td>Lose</td>\n",
       "    </tr>\n",
       "  </tbody>\n",
       "</table>\n",
       "</div>"
      ],
      "text/plain": [
       "     Matchweek  Day       Date     Season   Time home_team  home_score  \\\n",
       "6          1.0  Sun 2022-08-14  2022-2023  20:45    Spezia           1   \n",
       "25         3.0  Sat 2022-08-27  2022-2023  20:45    Spezia           2   \n",
       "44         5.0  Sun 2022-09-04  2022-2023  15:00    Spezia           2   \n",
       "62         7.0  Sat 2022-09-17  2022-2023  18:00    Spezia           2   \n",
       "95        10.0  Sun 2022-10-16  2022-2023  15:00    Spezia           2   \n",
       "114       12.0  Sun 2022-10-30  2022-2023  15:00    Spezia           1   \n",
       "131       14.0  Tue 2022-11-08  2022-2023  18:30    Spezia           1   \n",
       "152       16.0  Wed 2023-01-04  2022-2023  14:30    Spezia           2   \n",
       "164       17.0  Sun 2023-01-08  2022-2023  15:00    Spezia           0   \n",
       "185       19.0  Sun 2023-01-22  2022-2023  18:00    Spezia           0   \n",
       "203       21.0  Sun 2023-02-05  2022-2023  12:30    Spezia           0   \n",
       "227       23.0  Sun 2023-02-19  2022-2023  18:00    Spezia           0   \n",
       "244       25.0  Sun 2023-03-05  2022-2023  12:30    Spezia           0   \n",
       "250       26.0  Fri 2023-03-10  2022-2023  20:45    Spezia           2   \n",
       "274       28.0  Sun 2023-04-02  2022-2023  15:00    Spezia           1   \n",
       "291       30.0  Fri 2023-04-14  2022-2023  20:45    Spezia           0   \n",
       "311       32.0  Fri 2023-04-28  2022-2023  20:45    Spezia           0   \n",
       "342       35.0  Sat 2023-05-13  2022-2023  18:00    Spezia           2   \n",
       "361       37.0  Sat 2023-05-27  2022-2023  15:00    Spezia           0   \n",
       "380        NaN  Sun 2023-06-11  2022-2023  20:45    Spezia           1   \n",
       "\n",
       "         away_team  away_score                 Venue               Referee  \\\n",
       "6           Empoli           0  Stadio Alberto Picco        Daniele Chiffi   \n",
       "25        Sassuolo           2  Stadio Alberto Picco       Francesco Cosso   \n",
       "44         Bologna           2  Stadio Alberto Picco          Antonio Giua   \n",
       "62       Sampdoria           1  Stadio Alberto Picco          Simone Sozza   \n",
       "95       Cremonese           2  Stadio Alberto Picco  Gianluca Manganiello   \n",
       "114     Fiorentina           2  Stadio Alberto Picco          Davide Massa   \n",
       "131        Udinese           1  Stadio Alberto Picco       Marco Piccinini   \n",
       "152       Atalanta           2  Stadio Alberto Picco          Antonio Giua   \n",
       "164          Lecce           0  Stadio Alberto Picco        Daniele Chiffi   \n",
       "185           Roma           2  Stadio Alberto Picco          Simone Sozza   \n",
       "203         Napoli           3  Stadio Alberto Picco        Marco Di Bello   \n",
       "227       Juventus           2  Stadio Alberto Picco     Federico La Penna   \n",
       "244  Hellas Verona           0  Stadio Alberto Picco        Daniele Doveri   \n",
       "250          Inter           1  Stadio Alberto Picco       Livio Marinelli   \n",
       "274    Salernitana           1  Stadio Alberto Picco        Daniele Orsato   \n",
       "291          Lazio           3  Stadio Alberto Picco   Massimiliano Irrati   \n",
       "311          Monza           2  Stadio Alberto Picco       Antonio Rapuano   \n",
       "342          Milan           0  Stadio Alberto Picco        Daniele Doveri   \n",
       "361         Torino           4  Stadio Alberto Picco           Marco Guida   \n",
       "380  Hellas Verona           3           Dacia Arena        Daniele Orsato   \n",
       "\n",
       "     diff_score target  \n",
       "6             1    Win  \n",
       "25            0   Draw  \n",
       "44            0   Draw  \n",
       "62            1    Win  \n",
       "95            0   Draw  \n",
       "114          -1   Lose  \n",
       "131           0   Draw  \n",
       "152           0   Draw  \n",
       "164           0   Draw  \n",
       "185          -2   Lose  \n",
       "203          -3   Lose  \n",
       "227          -2   Lose  \n",
       "244           0   Draw  \n",
       "250           1    Win  \n",
       "274           0   Draw  \n",
       "291          -3   Lose  \n",
       "311          -2   Lose  \n",
       "342           2    Win  \n",
       "361          -4   Lose  \n",
       "380          -2   Lose  "
      ]
     },
     "execution_count": 35,
     "metadata": {},
     "output_type": "execute_result"
    }
   ],
   "source": [
    "ItaData[ItaData[\"home_team\"]==\"Spezia\"]"
   ]
  },
  {
   "cell_type": "markdown",
   "id": "108d5737-68c0-4818-a17d-7ee9fec8a853",
   "metadata": {},
   "source": [
    "Check the above information, I realize that the __380 index__ with __Matchweek__ has null value. There are 2 methods for handling the issue.\n",
    "+ The row can be removed, because there is only 19 matches (not 20 matches). The method is sensible meaning in reality.\n",
    "+ The row can be changed with __Matchweek__ column by replacing the numerical value."
   ]
  },
  {
   "cell_type": "code",
   "execution_count": 36,
   "id": "e5a58365-6c47-44f1-893a-c1688be563b9",
   "metadata": {},
   "outputs": [
    {
     "data": {
      "text/plain": [
       "home_team\n",
       "Frosinone        15\n",
       "Udinese          15\n",
       "Salernitana      15\n",
       "Juventus         15\n",
       "Empoli           15\n",
       "Bologna          15\n",
       "Monza            15\n",
       "Roma             15\n",
       "Inter            15\n",
       "Lecce            14\n",
       "Torino           14\n",
       "Sassuolo         14\n",
       "Hellas Verona    14\n",
       "Milan            14\n",
       "Genoa            14\n",
       "Fiorentina       14\n",
       "Napoli           14\n",
       "Lazio            14\n",
       "Cagliari         14\n",
       "Atalanta         14\n",
       "Name: count, dtype: int64"
      ]
     },
     "execution_count": 36,
     "metadata": {},
     "output_type": "execute_result"
    }
   ],
   "source": [
    "ItaData[ItaData[\"Season\"]==\"2023-2024\"].home_team.value_counts()"
   ]
  },
  {
   "cell_type": "markdown",
   "id": "0bd0cded-a4ad-41ce-8c69-c33d66f9fe26",
   "metadata": {},
   "source": [
    "__In conclusion__: The analysis from 2 seasons of each dataset (England football matches and Italy football matches) are different. And the __Ita.xlsx__ is not clean data."
   ]
  },
  {
   "cell_type": "markdown",
   "id": "0fd40117-f143-4aa9-9c6a-a3d802f3253e",
   "metadata": {},
   "source": [
    "### Another Analysis"
   ]
  },
  {
   "cell_type": "code",
   "execution_count": 37,
   "id": "d92b73f0-5381-4173-962c-3c66269a978f",
   "metadata": {},
   "outputs": [
    {
     "data": {
      "text/plain": [
       "Day\n",
       "Sat    340\n",
       "Sun    166\n",
       "Wed     45\n",
       "Mon     39\n",
       "Tue     35\n",
       "Fri     19\n",
       "Thu     19\n",
       "Name: count, dtype: int64"
      ]
     },
     "execution_count": 37,
     "metadata": {},
     "output_type": "execute_result"
    }
   ],
   "source": [
    "EplData.Day.value_counts()"
   ]
  },
  {
   "cell_type": "code",
   "execution_count": 38,
   "id": "2a44bb2c-feed-47d2-91e8-9a1129e8fc22",
   "metadata": {},
   "outputs": [
    {
     "data": {
      "text/plain": [
       "Day\n",
       "Sun    276\n",
       "Sat    206\n",
       "Mon     71\n",
       "Fri     58\n",
       "Wed     37\n",
       "Tue     12\n",
       "Thu     10\n",
       "Name: count, dtype: int64"
      ]
     },
     "execution_count": 38,
     "metadata": {},
     "output_type": "execute_result"
    }
   ],
   "source": [
    "ItaData.Day.value_counts()"
   ]
  },
  {
   "cell_type": "markdown",
   "id": "d2cc6611-a24e-484d-b5a0-782873d26fbf",
   "metadata": {},
   "source": [
    "Through the analysis of __\"Day\"__ field, I realize that English and Italy football matches are the same match day __Sun/ Sat/ Fri/ Thu/ Wed/ Tue/ Mon__ \\\n",
    "I will analyze the rate of \"Win\"/ \"Draw\"/ \"Lose\" day"
   ]
  },
  {
   "cell_type": "code",
   "execution_count": 39,
   "id": "90f74b58-0221-40a8-b768-edd788255e86",
   "metadata": {},
   "outputs": [],
   "source": [
    "daywin_epltdata=EplData[EplData[\"target\"]==\"Win\"].Day.value_counts()\n",
    "daylose_epltdata=EplData[EplData[\"target\"]==\"Lose\"].Day.value_counts()\n",
    "daydraw_epltdata=EplData[EplData[\"target\"]==\"Draw\"].Day.value_counts()"
   ]
  },
  {
   "cell_type": "code",
   "execution_count": 40,
   "id": "aed41a04-062b-494f-b8d8-defe3d08ebca",
   "metadata": {},
   "outputs": [
    {
     "data": {
      "image/png": "[encoded data removed]",
      "text/plain": [
       "<Figure size 640x480 with 1 Axes>"
      ]
     },
     "metadata": {},
     "output_type": "display_data"
    }
   ],
   "source": [
    "dfday_Epl = pd.DataFrame({'win': daywin_epltdata, 'lose': daylose_epltdata, 'draw': daydraw_epltdata}, index = EplData.Day.unique())\n",
    "axday_Epl = dfday_Epl.plot.bar()"
   ]
  },
  {
   "cell_type": "code",
   "execution_count": 41,
   "id": "b078a4c6-cdf8-46ad-904c-dbcd1a3cfbe8",
   "metadata": {},
   "outputs": [],
   "source": [
    "daywin_italydata=ItaData[ItaData[\"target\"]==\"Win\"].Day.value_counts()\n",
    "daylose_italydata=ItaData[ItaData[\"target\"]==\"Lose\"].Day.value_counts()\n",
    "daydraw_italydata=ItaData[ItaData[\"target\"]==\"Draw\"].Day.value_counts()"
   ]
  },
  {
   "cell_type": "code",
   "execution_count": 42,
   "id": "65a57990-ef64-4e51-a8df-1fbf8aa58c5c",
   "metadata": {},
   "outputs": [
    {
     "data": {
      "image/png": "[encoded data removed]",
      "text/plain": [
       "<Figure size 640x480 with 1 Axes>"
      ]
     },
     "metadata": {},
     "output_type": "display_data"
    }
   ],
   "source": [
    "dfday_Italy = pd.DataFrame({'win': daywin_italydata, 'lose': daylose_italydata, 'draw': daydraw_italydata}, index = ItaData.Day.unique())\n",
    "axday_Epl = dfday_Italy.plot.bar()"
   ]
  },
  {
   "cell_type": "code",
   "execution_count": 43,
   "id": "61b6c977-3c02-4072-812b-117b0cf54e4d",
   "metadata": {},
   "outputs": [
    {
     "name": "stderr",
     "output_type": "stream",
     "text": [
      "No artists with labels found to put in legend.  Note that artists whose label start with an underscore are ignored when legend() is called with no argument.\n"
     ]
    },
    {
     "data": {
      "image/png": "[encoded data removed]",
      "text/plain": [
       "<Figure size 640x480 with 2 Axes>"
      ]
     },
     "metadata": {},
     "output_type": "display_data"
    }
   ],
   "source": [
    "fig, ax = plt.subplots(nrows=1, ncols=2)\n",
    "ax[0].hist(dfday_Epl)\n",
    "ax[1].hist(dfday_Italy)\n",
    " \n",
    "# plot 2 subplots\n",
    "ax[0].set_title('England football matches')\n",
    "ax[1].set_title('Italy football matches')\n",
    " \n",
    "fig.suptitle('Stacked subplots in one direction')\n",
    "plt.legend()\n",
    "plt.show()"
   ]
  },
  {
   "cell_type": "markdown",
   "id": "049f79fb-81d8-4dd5-b38d-d26a60678554",
   "metadata": {},
   "source": [
    "__In conclusion__: Through the output from the calculations, I realize there is a difference high number of \"Win\" day between England and Italy football matches."
   ]
  },
  {
   "cell_type": "markdown",
   "id": "eb8747b6-758c-46f5-8287-866b9fa4a756",
   "metadata": {},
   "source": [
    "### Problem 2\n",
    "\n",
    "I choose __EPL.xlsx__ that is the dataset to build a Machine learning model."
   ]
  },
  {
   "cell_type": "markdown",
   "id": "a0e39c54-b0e3-4871-b4fa-9a238ec78e1b",
   "metadata": {},
   "source": [
    "#### Data Preprocessing\n",
    "\n",
    "1st, As I analyze the above information, there are text value in some columns. I have to convert it into numerical values for training/ testing model."
   ]
  },
  {
   "cell_type": "code",
   "execution_count": 44,
   "id": "168a23ef-676d-487d-a51c-b1e329281315",
   "metadata": {},
   "outputs": [],
   "source": [
    "## Import library.\n",
    "\n",
    "from sklearn import preprocessing"
   ]
  },
  {
   "cell_type": "code",
   "execution_count": 45,
   "id": "f760ea99-7d1c-463a-8c91-87806fd1f629",
   "metadata": {},
   "outputs": [
    {
     "data": {
      "text/html": [
       "<style>#sk-container-id-1 {color: black;}#sk-container-id-1 pre{padding: 0;}#sk-container-id-1 div.sk-toggleable {background-color: white;}#sk-container-id-1 label.sk-toggleable__label {cursor: pointer;display: block;width: 100%;margin-bottom: 0;padding: 0.3em;box-sizing: border-box;text-align: center;}#sk-container-id-1 label.sk-toggleable__label-arrow:before {content: \"▸\";float: left;margin-right: 0.25em;color: #696969;}#sk-container-id-1 label.sk-toggleable__label-arrow:hover:before {color: black;}#sk-container-id-1 div.sk-estimator:hover label.sk-toggleable__label-arrow:before {color: black;}#sk-container-id-1 div.sk-toggleable__content {max-height: 0;max-width: 0;overflow: hidden;text-align: left;background-color: #f0f8ff;}#sk-container-id-1 div.sk-toggleable__content pre {margin: 0.2em;color: black;border-radius: 0.25em;background-color: #f0f8ff;}#sk-container-id-1 input.sk-toggleable__control:checked~div.sk-toggleable__content {max-height: 200px;max-width: 100%;overflow: auto;}#sk-container-id-1 input.sk-toggleable__control:checked~label.sk-toggleable__label-arrow:before {content: \"▾\";}#sk-container-id-1 div.sk-estimator input.sk-toggleable__control:checked~label.sk-toggleable__label {background-color: #d4ebff;}#sk-container-id-1 div.sk-label input.sk-toggleable__control:checked~label.sk-toggleable__label {background-color: #d4ebff;}#sk-container-id-1 input.sk-hidden--visually {border: 0;clip: rect(1px 1px 1px 1px);clip: rect(1px, 1px, 1px, 1px);height: 1px;margin: -1px;overflow: hidden;padding: 0;position: absolute;width: 1px;}#sk-container-id-1 div.sk-estimator {font-family: monospace;background-color: #f0f8ff;border: 1px dotted black;border-radius: 0.25em;box-sizing: border-box;margin-bottom: 0.5em;}#sk-container-id-1 div.sk-estimator:hover {background-color: #d4ebff;}#sk-container-id-1 div.sk-parallel-item::after {content: \"\";width: 100%;border-bottom: 1px solid gray;flex-grow: 1;}#sk-container-id-1 div.sk-label:hover label.sk-toggleable__label {background-color: #d4ebff;}#sk-container-id-1 div.sk-serial::before {content: \"\";position: absolute;border-left: 1px solid gray;box-sizing: border-box;top: 0;bottom: 0;left: 50%;z-index: 0;}#sk-container-id-1 div.sk-serial {display: flex;flex-direction: column;align-items: center;background-color: white;padding-right: 0.2em;padding-left: 0.2em;position: relative;}#sk-container-id-1 div.sk-item {position: relative;z-index: 1;}#sk-container-id-1 div.sk-parallel {display: flex;align-items: stretch;justify-content: center;background-color: white;position: relative;}#sk-container-id-1 div.sk-item::before, #sk-container-id-1 div.sk-parallel-item::before {content: \"\";position: absolute;border-left: 1px solid gray;box-sizing: border-box;top: 0;bottom: 0;left: 50%;z-index: -1;}#sk-container-id-1 div.sk-parallel-item {display: flex;flex-direction: column;z-index: 1;position: relative;background-color: white;}#sk-container-id-1 div.sk-parallel-item:first-child::after {align-self: flex-end;width: 50%;}#sk-container-id-1 div.sk-parallel-item:last-child::after {align-self: flex-start;width: 50%;}#sk-container-id-1 div.sk-parallel-item:only-child::after {width: 0;}#sk-container-id-1 div.sk-dashed-wrapped {border: 1px dashed gray;margin: 0 0.4em 0.5em 0.4em;box-sizing: border-box;padding-bottom: 0.4em;background-color: white;}#sk-container-id-1 div.sk-label label {font-family: monospace;font-weight: bold;display: inline-block;line-height: 1.2em;}#sk-container-id-1 div.sk-label-container {text-align: center;}#sk-container-id-1 div.sk-container {/* jupyter's `normalize.less` sets `[hidden] { display: none; }` but bootstrap.min.css set `[hidden] { display: none !important; }` so we also need the `!important` here to be able to override the default hidden behavior on the sphinx rendered scikit-learn.org. See: https://github.com/scikit-learn/scikit-learn/issues/21755 */display: inline-block !important;position: relative;}#sk-container-id-1 div.sk-text-repr-fallback {display: none;}</style><div id=\"sk-container-id-1\" class=\"sk-top-container\"><div class=\"sk-text-repr-fallback\"><pre>LabelEncoder()</pre><b>In a Jupyter environment, please rerun this cell to show the HTML representation or trust the notebook. <br />On GitHub, the HTML representation is unable to render, please try loading this page with nbviewer.org.</b></div><div class=\"sk-container\" hidden><div class=\"sk-item\"><div class=\"sk-estimator sk-toggleable\"><input class=\"sk-toggleable__control sk-hidden--visually\" id=\"sk-estimator-id-1\" type=\"checkbox\" checked><label for=\"sk-estimator-id-1\" class=\"sk-toggleable__label sk-toggleable__label-arrow\">LabelEncoder</label><div class=\"sk-toggleable__content\"><pre>LabelEncoder()</pre></div></div></div></div></div>"
      ],
      "text/plain": [
       "LabelEncoder()"
      ]
     },
     "execution_count": 45,
     "metadata": {},
     "output_type": "execute_result"
    }
   ],
   "source": [
    "le = preprocessing.LabelEncoder()\n",
    "le.fit(EplData.home_team)"
   ]
  },
  {
   "cell_type": "code",
   "execution_count": 46,
   "id": "13f9d7e0-ad9e-44e7-9fef-d110a2603b3b",
   "metadata": {},
   "outputs": [],
   "source": [
    "## Because home_team and away_team belong to the same value type, then I can convert it\n",
    "## with the same preprocessing method.\n",
    "\n",
    "EplData.home_team = le.transform(EplData.home_team)\n",
    "EplData.away_team = le.transform(EplData.away_team)"
   ]
  },
  {
   "cell_type": "code",
   "execution_count": 47,
   "id": "42ed4bfb-d574-4e66-b6dc-8056aaeb1e1f",
   "metadata": {},
   "outputs": [
    {
     "data": {
      "text/html": [
       "<div>\n",
       "<style scoped>\n",
       "    .dataframe tbody tr th:only-of-type {\n",
       "        vertical-align: middle;\n",
       "    }\n",
       "\n",
       "    .dataframe tbody tr th {\n",
       "        vertical-align: top;\n",
       "    }\n",
       "\n",
       "    .dataframe thead th {\n",
       "        text-align: right;\n",
       "    }\n",
       "</style>\n",
       "<table border=\"1\" class=\"dataframe\">\n",
       "  <thead>\n",
       "    <tr style=\"text-align: right;\">\n",
       "      <th></th>\n",
       "      <th>Matchweek</th>\n",
       "      <th>Day</th>\n",
       "      <th>Date</th>\n",
       "      <th>Season</th>\n",
       "      <th>Time</th>\n",
       "      <th>home_team</th>\n",
       "      <th>home_score</th>\n",
       "      <th>away_team</th>\n",
       "      <th>away_score</th>\n",
       "      <th>Venue</th>\n",
       "      <th>Referee</th>\n",
       "      <th>diff_score</th>\n",
       "      <th>target</th>\n",
       "    </tr>\n",
       "  </thead>\n",
       "  <tbody>\n",
       "    <tr>\n",
       "      <th>0</th>\n",
       "      <td>1</td>\n",
       "      <td>0</td>\n",
       "      <td>2022-08-05</td>\n",
       "      <td>2022-2023</td>\n",
       "      <td>16</td>\n",
       "      <td>7</td>\n",
       "      <td>0</td>\n",
       "      <td>0</td>\n",
       "      <td>2</td>\n",
       "      <td>14</td>\n",
       "      <td>2</td>\n",
       "      <td>-2</td>\n",
       "      <td>1</td>\n",
       "    </tr>\n",
       "    <tr>\n",
       "      <th>1</th>\n",
       "      <td>1</td>\n",
       "      <td>2</td>\n",
       "      <td>2022-08-06</td>\n",
       "      <td>2022-2023</td>\n",
       "      <td>1</td>\n",
       "      <td>9</td>\n",
       "      <td>2</td>\n",
       "      <td>12</td>\n",
       "      <td>2</td>\n",
       "      <td>3</td>\n",
       "      <td>1</td>\n",
       "      <td>0</td>\n",
       "      <td>0</td>\n",
       "    </tr>\n",
       "    <tr>\n",
       "      <th>2</th>\n",
       "      <td>1</td>\n",
       "      <td>2</td>\n",
       "      <td>2022-08-06</td>\n",
       "      <td>2022-2023</td>\n",
       "      <td>6</td>\n",
       "      <td>20</td>\n",
       "      <td>4</td>\n",
       "      <td>19</td>\n",
       "      <td>1</td>\n",
       "      <td>20</td>\n",
       "      <td>0</td>\n",
       "      <td>3</td>\n",
       "      <td>2</td>\n",
       "    </tr>\n",
       "    <tr>\n",
       "      <th>3</th>\n",
       "      <td>1</td>\n",
       "      <td>2</td>\n",
       "      <td>2022-08-06</td>\n",
       "      <td>2022-2023</td>\n",
       "      <td>6</td>\n",
       "      <td>16</td>\n",
       "      <td>2</td>\n",
       "      <td>17</td>\n",
       "      <td>0</td>\n",
       "      <td>15</td>\n",
       "      <td>22</td>\n",
       "      <td>2</td>\n",
       "      <td>2</td>\n",
       "    </tr>\n",
       "    <tr>\n",
       "      <th>4</th>\n",
       "      <td>1</td>\n",
       "      <td>2</td>\n",
       "      <td>2022-08-06</td>\n",
       "      <td>2022-2023</td>\n",
       "      <td>6</td>\n",
       "      <td>10</td>\n",
       "      <td>2</td>\n",
       "      <td>22</td>\n",
       "      <td>1</td>\n",
       "      <td>4</td>\n",
       "      <td>18</td>\n",
       "      <td>1</td>\n",
       "      <td>2</td>\n",
       "    </tr>\n",
       "  </tbody>\n",
       "</table>\n",
       "</div>"
      ],
      "text/plain": [
       "   Matchweek  Day       Date     Season  Time  home_team  home_score  \\\n",
       "0          1    0 2022-08-05  2022-2023    16          7           0   \n",
       "1          1    2 2022-08-06  2022-2023     1          9           2   \n",
       "2          1    2 2022-08-06  2022-2023     6         20           4   \n",
       "3          1    2 2022-08-06  2022-2023     6         16           2   \n",
       "4          1    2 2022-08-06  2022-2023     6         10           2   \n",
       "\n",
       "   away_team  away_score  Venue  Referee  diff_score  target  \n",
       "0          0           2     14        2          -2       1  \n",
       "1         12           2      3        1           0       0  \n",
       "2         19           1     20        0           3       2  \n",
       "3         17           0     15       22           2       2  \n",
       "4         22           1      4       18           1       2  "
      ]
     },
     "execution_count": 47,
     "metadata": {},
     "output_type": "execute_result"
    }
   ],
   "source": [
    "## Apply the same method for Day/ Time/ Venue/ Referee/ Target\n",
    "\n",
    "le.fit(EplData.Day)\n",
    "EplData.Day = le.transform(EplData.Day)\n",
    "\n",
    "le.fit(EplData.Time)\n",
    "EplData.Time = le.transform(EplData.Time)\n",
    "\n",
    "le.fit(EplData.Venue)\n",
    "EplData.Venue = le.transform(EplData.Venue)\n",
    "\n",
    "le.fit(EplData.Referee)\n",
    "EplData.Referee = le.transform(EplData.Referee)\n",
    "\n",
    "le.fit(EplData.target)\n",
    "EplData.target = le.transform(EplData.target)\n",
    "\n",
    "EplData.head()"
   ]
  },
  {
   "cell_type": "markdown",
   "id": "bf3ba1a0-8970-4181-97c9-81500b70aa18",
   "metadata": {},
   "source": [
    "#### Feature selection\n",
    "\n",
    "For the dataset, through the above analysis, I realize \"Date\"/ \"Season\"/ \"home_score\"/ \"away_score\"/ \"diff_score\", they won't affect to the machine learning model. For feature selection, I will remove it for the data."
   ]
  },
  {
   "cell_type": "code",
   "execution_count": 48,
   "id": "bf927bb8-03e9-45ab-adb4-478b437ed95c",
   "metadata": {},
   "outputs": [
    {
     "data": {
      "text/plain": [
       "['Matchweek',\n",
       " 'Day',\n",
       " 'Time',\n",
       " 'home_team',\n",
       " 'away_team',\n",
       " 'Venue',\n",
       " 'Referee',\n",
       " 'target']"
      ]
     },
     "execution_count": 48,
     "metadata": {},
     "output_type": "execute_result"
    }
   ],
   "source": [
    "rm_col_list = ['Date','Season','diff_score', 'home_score', 'away_score']\n",
    "col_list = EplData.columns.values.tolist()\n",
    "col_list = [x for x in col_list if x not in rm_col_list]\n",
    "col_list"
   ]
  },
  {
   "cell_type": "code",
   "execution_count": 49,
   "id": "e567ed08-eb43-41e2-b661-0ec6a3d7dd0b",
   "metadata": {},
   "outputs": [
    {
     "data": {
      "text/html": [
       "<div>\n",
       "<style scoped>\n",
       "    .dataframe tbody tr th:only-of-type {\n",
       "        vertical-align: middle;\n",
       "    }\n",
       "\n",
       "    .dataframe tbody tr th {\n",
       "        vertical-align: top;\n",
       "    }\n",
       "\n",
       "    .dataframe thead th {\n",
       "        text-align: right;\n",
       "    }\n",
       "</style>\n",
       "<table border=\"1\" class=\"dataframe\">\n",
       "  <thead>\n",
       "    <tr style=\"text-align: right;\">\n",
       "      <th></th>\n",
       "      <th>Matchweek</th>\n",
       "      <th>Day</th>\n",
       "      <th>Time</th>\n",
       "      <th>home_team</th>\n",
       "      <th>away_team</th>\n",
       "      <th>Venue</th>\n",
       "      <th>Referee</th>\n",
       "      <th>target</th>\n",
       "    </tr>\n",
       "  </thead>\n",
       "  <tbody>\n",
       "    <tr>\n",
       "      <th>0</th>\n",
       "      <td>1</td>\n",
       "      <td>0</td>\n",
       "      <td>16</td>\n",
       "      <td>7</td>\n",
       "      <td>0</td>\n",
       "      <td>14</td>\n",
       "      <td>2</td>\n",
       "      <td>1</td>\n",
       "    </tr>\n",
       "    <tr>\n",
       "      <th>1</th>\n",
       "      <td>1</td>\n",
       "      <td>2</td>\n",
       "      <td>1</td>\n",
       "      <td>9</td>\n",
       "      <td>12</td>\n",
       "      <td>3</td>\n",
       "      <td>1</td>\n",
       "      <td>0</td>\n",
       "    </tr>\n",
       "    <tr>\n",
       "      <th>2</th>\n",
       "      <td>1</td>\n",
       "      <td>2</td>\n",
       "      <td>6</td>\n",
       "      <td>20</td>\n",
       "      <td>19</td>\n",
       "      <td>20</td>\n",
       "      <td>0</td>\n",
       "      <td>2</td>\n",
       "    </tr>\n",
       "    <tr>\n",
       "      <th>3</th>\n",
       "      <td>1</td>\n",
       "      <td>2</td>\n",
       "      <td>6</td>\n",
       "      <td>16</td>\n",
       "      <td>17</td>\n",
       "      <td>15</td>\n",
       "      <td>22</td>\n",
       "      <td>2</td>\n",
       "    </tr>\n",
       "    <tr>\n",
       "      <th>4</th>\n",
       "      <td>1</td>\n",
       "      <td>2</td>\n",
       "      <td>6</td>\n",
       "      <td>10</td>\n",
       "      <td>22</td>\n",
       "      <td>4</td>\n",
       "      <td>18</td>\n",
       "      <td>2</td>\n",
       "    </tr>\n",
       "  </tbody>\n",
       "</table>\n",
       "</div>"
      ],
      "text/plain": [
       "   Matchweek  Day  Time  home_team  away_team  Venue  Referee  target\n",
       "0          1    0    16          7          0     14        2       1\n",
       "1          1    2     1          9         12      3        1       0\n",
       "2          1    2     6         20         19     20        0       2\n",
       "3          1    2     6         16         17     15       22       2\n",
       "4          1    2     6         10         22      4       18       2"
      ]
     },
     "execution_count": 49,
     "metadata": {},
     "output_type": "execute_result"
    }
   ],
   "source": [
    "to_use = EplData[col_list] # the new data \n",
    "to_use.head()"
   ]
  },
  {
   "cell_type": "code",
   "execution_count": 50,
   "id": "d1553ef5-ced3-45f6-8540-77cc890d8e3b",
   "metadata": {},
   "outputs": [],
   "source": [
    "# Y_data is label, X_data is data for training/ testing\n",
    "\n",
    "Y_data = to_use['target']\n",
    "X_data = to_use.drop('target', axis=1)"
   ]
  },
  {
   "cell_type": "code",
   "execution_count": 51,
   "id": "3c123aae-6e4c-42a0-9768-591dbc19106f",
   "metadata": {},
   "outputs": [],
   "source": [
    "# I use train_test_split to split X_data and Y_data into train/ test data\n",
    "\n",
    "from sklearn.model_selection import train_test_split\n",
    "X_train, X_test, Y_train, Y_test = train_test_split(X_data, Y_data, test_size=0.2, random_state=42)"
   ]
  },
  {
   "cell_type": "markdown",
   "id": "b4464ed4-510a-422e-8d1e-dba85908b490",
   "metadata": {},
   "source": [
    "#### 1st Machine learning method\n",
    "##### Linear Support Vector Machine Classification."
   ]
  },
  {
   "cell_type": "code",
   "execution_count": 52,
   "id": "a8a4918f-e469-4084-98d7-9590f65f26eb",
   "metadata": {},
   "outputs": [],
   "source": [
    "## Apply Linear Support Vector Machine Learning Classification\n",
    "\n",
    "from sklearn.svm import LinearSVC"
   ]
  },
  {
   "cell_type": "code",
   "execution_count": 53,
   "id": "1e7b4f90-0fb1-4af2-9ade-4eee53b14e71",
   "metadata": {},
   "outputs": [
    {
     "name": "stderr",
     "output_type": "stream",
     "text": [
      "/Users/quangtn/opt/anaconda3/envs/fastapi_course/lib/python3.10/site-packages/sklearn/svm/_classes.py:32: FutureWarning: The default value of `dual` will change from `True` to `'auto'` in 1.5. Set the value of `dual` explicitly to suppress the warning.\n",
      "  warnings.warn(\n",
      "/Users/quangtn/opt/anaconda3/envs/fastapi_course/lib/python3.10/site-packages/sklearn/svm/_base.py:1250: ConvergenceWarning: Liblinear failed to converge, increase the number of iterations.\n",
      "  warnings.warn(\n"
     ]
    },
    {
     "data": {
      "text/plain": [
       "array([2, 2, 2, 2, 2, 2, 2, 2, 2, 2, 2, 2, 2, 1, 2, 1, 2, 2, 2, 2, 2, 2,\n",
       "       2, 2, 2, 2, 2, 2, 1, 2, 1, 2, 2, 1, 2, 2, 2, 1, 2, 2, 2, 2, 2, 2,\n",
       "       1, 2, 2, 2, 2, 2, 2, 1, 2, 2, 1, 2, 2, 1, 2, 2, 2, 1, 1, 2, 1, 2,\n",
       "       2, 2, 2, 2, 2, 1, 2, 2, 2, 2, 2, 2, 1, 2, 1, 2, 2, 2, 1, 2, 2, 2,\n",
       "       2, 2, 2, 1, 1, 2, 2, 2, 2, 2, 2, 1, 1, 2, 2, 2, 2, 2, 2, 2, 2, 2,\n",
       "       2, 2, 1, 2, 1, 2, 2, 2, 2, 1, 2, 2, 2, 2, 1, 2, 2, 2, 2, 2, 2, 2,\n",
       "       1])"
      ]
     },
     "execution_count": 53,
     "metadata": {},
     "output_type": "execute_result"
    }
   ],
   "source": [
    "model_svc = LinearSVC(max_iter=10000)\n",
    "model_svc.fit(X_train, Y_train)\n",
    "predicted_svc = model_svc.predict(X_test)\n",
    "predicted_svc"
   ]
  },
  {
   "cell_type": "code",
   "execution_count": 54,
   "id": "c0925018-c6b2-4c7c-b151-ade3fc5daff2",
   "metadata": {},
   "outputs": [
    {
     "data": {
      "text/plain": [
       "array(['Win', 'Win', 'Win', 'Win', 'Win', 'Win', 'Win', 'Win', 'Win',\n",
       "       'Win', 'Win', 'Win', 'Win', 'Lose', 'Win', 'Lose', 'Win', 'Win',\n",
       "       'Win', 'Win', 'Win', 'Win', 'Win', 'Win', 'Win', 'Win', 'Win',\n",
       "       'Win', 'Lose', 'Win', 'Lose', 'Win', 'Win', 'Lose', 'Win', 'Win',\n",
       "       'Win', 'Lose', 'Win', 'Win', 'Win', 'Win', 'Win', 'Win', 'Lose',\n",
       "       'Win', 'Win', 'Win', 'Win', 'Win', 'Win', 'Lose', 'Win', 'Win',\n",
       "       'Lose', 'Win', 'Win', 'Lose', 'Win', 'Win', 'Win', 'Lose', 'Lose',\n",
       "       'Win', 'Lose', 'Win', 'Win', 'Win', 'Win', 'Win', 'Win', 'Lose',\n",
       "       'Win', 'Win', 'Win', 'Win', 'Win', 'Win', 'Lose', 'Win', 'Lose',\n",
       "       'Win', 'Win', 'Win', 'Lose', 'Win', 'Win', 'Win', 'Win', 'Win',\n",
       "       'Win', 'Lose', 'Lose', 'Win', 'Win', 'Win', 'Win', 'Win', 'Win',\n",
       "       'Lose', 'Lose', 'Win', 'Win', 'Win', 'Win', 'Win', 'Win', 'Win',\n",
       "       'Win', 'Win', 'Win', 'Win', 'Lose', 'Win', 'Lose', 'Win', 'Win',\n",
       "       'Win', 'Win', 'Lose', 'Win', 'Win', 'Win', 'Win', 'Lose', 'Win',\n",
       "       'Win', 'Win', 'Win', 'Win', 'Win', 'Win', 'Lose'], dtype=object)"
      ]
     },
     "execution_count": 54,
     "metadata": {},
     "output_type": "execute_result"
    }
   ],
   "source": [
    "# Inversing predicted value into Text label\n",
    "\n",
    "target_prediction_svc = le.inverse_transform(predicted_svc)\n",
    "target_prediction_svc"
   ]
  },
  {
   "cell_type": "code",
   "execution_count": 55,
   "id": "a4fd6da2-50a9-49d9-846a-78e17ef52b46",
   "metadata": {},
   "outputs": [],
   "source": [
    "# I write a function for multi-class by importing confusion matrix libraries.\n",
    "\n",
    "from sklearn.metrics import ConfusionMatrixDisplay\n",
    "from sklearn.metrics import confusion_matrix\n",
    "from sklearn.metrics import f1_score, accuracy_score, recall_score, precision_score, classification_report"
   ]
  },
  {
   "cell_type": "code",
   "execution_count": 56,
   "id": "f1635124-6cf2-464b-bf2c-1c604de0d148",
   "metadata": {},
   "outputs": [],
   "source": [
    "def confussion_matrix(test_true, test_pred, test_class):\n",
    "    cm = confusion_matrix(test_true, test_pred)\n",
    "    disp = ConfusionMatrixDisplay(confusion_matrix=cm, display_labels=test_class)\n",
    "    fig, ax = plt.subplots(figsize=(15,15))\n",
    "    disp.plot(ax=ax,cmap=plt.cm.Blues)\n",
    "    plt.show()\n",
    "\n",
    "    print(classification_report(test_true, test_pred, target_names=test_class))\n",
    "    print(\"\\n\\nAccuracy: \", accuracy_score(test_true, test_pred))\n",
    "    print(\"Recall: \", recall_score(test_true, test_pred, average='macro'))\n",
    "    print(\"Precision: \", precision_score(test_true, test_pred, average='macro'))\n",
    "    print(\"F1 Score: \", f1_score(test_true, test_pred, average='macro'))"
   ]
  },
  {
   "cell_type": "code",
   "execution_count": 57,
   "id": "9bb7cead-c6ce-4c83-aff5-70dce598ba1b",
   "metadata": {},
   "outputs": [
    {
     "data": {
      "image/png": "[encoded data removed]",
      "text/plain": [
       "<Figure size 1500x1500 with 2 Axes>"
      ]
     },
     "metadata": {},
     "output_type": "display_data"
    },
    {
     "name": "stdout",
     "output_type": "stream",
     "text": [
      "              precision    recall  f1-score   support\n",
      "\n",
      "        Draw       0.00      0.00      0.00        23\n",
      "        Lose       0.46      0.26      0.33        46\n",
      "         Win       0.49      0.81      0.61        64\n",
      "\n",
      "    accuracy                           0.48       133\n",
      "   macro avg       0.32      0.36      0.31       133\n",
      "weighted avg       0.39      0.48      0.41       133\n",
      "\n",
      "\n",
      "\n",
      "Accuracy:  0.48120300751879697\n",
      "Recall:  0.3577898550724638\n",
      "Precision:  0.3158399233165588\n",
      "F1 Score:  0.3138401559454191\n"
     ]
    },
    {
     "name": "stderr",
     "output_type": "stream",
     "text": [
      "/Users/quangtn/opt/anaconda3/envs/fastapi_course/lib/python3.10/site-packages/sklearn/metrics/_classification.py:1471: UndefinedMetricWarning: Precision and F-score are ill-defined and being set to 0.0 in labels with no predicted samples. Use `zero_division` parameter to control this behavior.\n",
      "  _warn_prf(average, modifier, msg_start, len(result))\n",
      "/Users/quangtn/opt/anaconda3/envs/fastapi_course/lib/python3.10/site-packages/sklearn/metrics/_classification.py:1471: UndefinedMetricWarning: Precision and F-score are ill-defined and being set to 0.0 in labels with no predicted samples. Use `zero_division` parameter to control this behavior.\n",
      "  _warn_prf(average, modifier, msg_start, len(result))\n",
      "/Users/quangtn/opt/anaconda3/envs/fastapi_course/lib/python3.10/site-packages/sklearn/metrics/_classification.py:1471: UndefinedMetricWarning: Precision and F-score are ill-defined and being set to 0.0 in labels with no predicted samples. Use `zero_division` parameter to control this behavior.\n",
      "  _warn_prf(average, modifier, msg_start, len(result))\n",
      "/Users/quangtn/opt/anaconda3/envs/fastapi_course/lib/python3.10/site-packages/sklearn/metrics/_classification.py:1471: UndefinedMetricWarning: Precision is ill-defined and being set to 0.0 in labels with no predicted samples. Use `zero_division` parameter to control this behavior.\n",
      "  _warn_prf(average, modifier, msg_start, len(result))\n"
     ]
    }
   ],
   "source": [
    "testing_class = ['Draw', 'Lose', 'Win'] # Create classes\n",
    "confussion_matrix(Y_test, predicted_svc, testing_class) # Do the above function"
   ]
  },
  {
   "cell_type": "code",
   "execution_count": 58,
   "id": "7e38cdac-5346-4f40-a240-795adb8cce8b",
   "metadata": {},
   "outputs": [],
   "source": [
    "# Checking the accuracy of the trained model\n",
    "\n",
    "from sklearn.metrics import accuracy_score"
   ]
  },
  {
   "cell_type": "code",
   "execution_count": 59,
   "id": "3e579fa5-1803-4df1-8331-1e5a34902b27",
   "metadata": {},
   "outputs": [
    {
     "data": {
      "text/plain": [
       "0.48120300751879697"
      ]
     },
     "execution_count": 59,
     "metadata": {},
     "output_type": "execute_result"
    }
   ],
   "source": [
    "accuracy_svc = accuracy_score(Y_test, predicted_svc)\n",
    "accuracy_svc"
   ]
  },
  {
   "cell_type": "markdown",
   "id": "b6b0a0f0-9ed8-422c-b3f7-1128e85c4d24",
   "metadata": {},
   "source": [
    "##### Xgboost Classification."
   ]
  },
  {
   "cell_type": "code",
   "execution_count": 60,
   "id": "af4e487c-b530-4522-9560-1b4907021231",
   "metadata": {},
   "outputs": [],
   "source": [
    "# 2nd method: Xgboost method\n",
    "# The below steps are the same as 1st strategy.\n",
    "import xgboost as xgb"
   ]
  },
  {
   "cell_type": "code",
   "execution_count": 61,
   "id": "0f5ca05d-a581-4d54-84d3-80569f54aff4",
   "metadata": {},
   "outputs": [
    {
     "name": "stderr",
     "output_type": "stream",
     "text": [
      "/Users/quangtn/opt/anaconda3/envs/fastapi_course/lib/python3.10/site-packages/xgboost/core.py:160: UserWarning: [16:13:28] WARNING: /Users/runner/work/xgboost/xgboost/src/learner.cc:742: \n",
      "Parameters: { \"max_iter\" } are not used.\n",
      "\n",
      "  warnings.warn(smsg, UserWarning)\n"
     ]
    },
    {
     "data": {
      "text/html": [
       "<style>#sk-container-id-2 {color: black;}#sk-container-id-2 pre{padding: 0;}#sk-container-id-2 div.sk-toggleable {background-color: white;}#sk-container-id-2 label.sk-toggleable__label {cursor: pointer;display: block;width: 100%;margin-bottom: 0;padding: 0.3em;box-sizing: border-box;text-align: center;}#sk-container-id-2 label.sk-toggleable__label-arrow:before {content: \"▸\";float: left;margin-right: 0.25em;color: #696969;}#sk-container-id-2 label.sk-toggleable__label-arrow:hover:before {color: black;}#sk-container-id-2 div.sk-estimator:hover label.sk-toggleable__label-arrow:before {color: black;}#sk-container-id-2 div.sk-toggleable__content {max-height: 0;max-width: 0;overflow: hidden;text-align: left;background-color: #f0f8ff;}#sk-container-id-2 div.sk-toggleable__content pre {margin: 0.2em;color: black;border-radius: 0.25em;background-color: #f0f8ff;}#sk-container-id-2 input.sk-toggleable__control:checked~div.sk-toggleable__content {max-height: 200px;max-width: 100%;overflow: auto;}#sk-container-id-2 input.sk-toggleable__control:checked~label.sk-toggleable__label-arrow:before {content: \"▾\";}#sk-container-id-2 div.sk-estimator input.sk-toggleable__control:checked~label.sk-toggleable__label {background-color: #d4ebff;}#sk-container-id-2 div.sk-label input.sk-toggleable__control:checked~label.sk-toggleable__label {background-color: #d4ebff;}#sk-container-id-2 input.sk-hidden--visually {border: 0;clip: rect(1px 1px 1px 1px);clip: rect(1px, 1px, 1px, 1px);height: 1px;margin: -1px;overflow: hidden;padding: 0;position: absolute;width: 1px;}#sk-container-id-2 div.sk-estimator {font-family: monospace;background-color: #f0f8ff;border: 1px dotted black;border-radius: 0.25em;box-sizing: border-box;margin-bottom: 0.5em;}#sk-container-id-2 div.sk-estimator:hover {background-color: #d4ebff;}#sk-container-id-2 div.sk-parallel-item::after {content: \"\";width: 100%;border-bottom: 1px solid gray;flex-grow: 1;}#sk-container-id-2 div.sk-label:hover label.sk-toggleable__label {background-color: #d4ebff;}#sk-container-id-2 div.sk-serial::before {content: \"\";position: absolute;border-left: 1px solid gray;box-sizing: border-box;top: 0;bottom: 0;left: 50%;z-index: 0;}#sk-container-id-2 div.sk-serial {display: flex;flex-direction: column;align-items: center;background-color: white;padding-right: 0.2em;padding-left: 0.2em;position: relative;}#sk-container-id-2 div.sk-item {position: relative;z-index: 1;}#sk-container-id-2 div.sk-parallel {display: flex;align-items: stretch;justify-content: center;background-color: white;position: relative;}#sk-container-id-2 div.sk-item::before, #sk-container-id-2 div.sk-parallel-item::before {content: \"\";position: absolute;border-left: 1px solid gray;box-sizing: border-box;top: 0;bottom: 0;left: 50%;z-index: -1;}#sk-container-id-2 div.sk-parallel-item {display: flex;flex-direction: column;z-index: 1;position: relative;background-color: white;}#sk-container-id-2 div.sk-parallel-item:first-child::after {align-self: flex-end;width: 50%;}#sk-container-id-2 div.sk-parallel-item:last-child::after {align-self: flex-start;width: 50%;}#sk-container-id-2 div.sk-parallel-item:only-child::after {width: 0;}#sk-container-id-2 div.sk-dashed-wrapped {border: 1px dashed gray;margin: 0 0.4em 0.5em 0.4em;box-sizing: border-box;padding-bottom: 0.4em;background-color: white;}#sk-container-id-2 div.sk-label label {font-family: monospace;font-weight: bold;display: inline-block;line-height: 1.2em;}#sk-container-id-2 div.sk-label-container {text-align: center;}#sk-container-id-2 div.sk-container {/* jupyter's `normalize.less` sets `[hidden] { display: none; }` but bootstrap.min.css set `[hidden] { display: none !important; }` so we also need the `!important` here to be able to override the default hidden behavior on the sphinx rendered scikit-learn.org. See: https://github.com/scikit-learn/scikit-learn/issues/21755 */display: inline-block !important;position: relative;}#sk-container-id-2 div.sk-text-repr-fallback {display: none;}</style><div id=\"sk-container-id-2\" class=\"sk-top-container\"><div class=\"sk-text-repr-fallback\"><pre>XGBClassifier(base_score=None, booster=None, callbacks=None,\n",
       "              colsample_bylevel=None, colsample_bynode=None,\n",
       "              colsample_bytree=None, device=None, early_stopping_rounds=None,\n",
       "              enable_categorical=False, eval_metric=None, feature_types=None,\n",
       "              gamma=None, grow_policy=None, importance_type=None,\n",
       "              interaction_constraints=None, learning_rate=None, max_bin=None,\n",
       "              max_cat_threshold=None, max_cat_to_onehot=None,\n",
       "              max_delta_step=None, max_depth=None, max_iter=10000,\n",
       "              max_leaves=None, min_child_weight=None, missing=nan,\n",
       "              monotone_constraints=None, multi_strategy=None, n_estimators=None,\n",
       "              n_jobs=None, num_parallel_tree=None, ...)</pre><b>In a Jupyter environment, please rerun this cell to show the HTML representation or trust the notebook. <br />On GitHub, the HTML representation is unable to render, please try loading this page with nbviewer.org.</b></div><div class=\"sk-container\" hidden><div class=\"sk-item\"><div class=\"sk-estimator sk-toggleable\"><input class=\"sk-toggleable__control sk-hidden--visually\" id=\"sk-estimator-id-2\" type=\"checkbox\" checked><label for=\"sk-estimator-id-2\" class=\"sk-toggleable__label sk-toggleable__label-arrow\">XGBClassifier</label><div class=\"sk-toggleable__content\"><pre>XGBClassifier(base_score=None, booster=None, callbacks=None,\n",
       "              colsample_bylevel=None, colsample_bynode=None,\n",
       "              colsample_bytree=None, device=None, early_stopping_rounds=None,\n",
       "              enable_categorical=False, eval_metric=None, feature_types=None,\n",
       "              gamma=None, grow_policy=None, importance_type=None,\n",
       "              interaction_constraints=None, learning_rate=None, max_bin=None,\n",
       "              max_cat_threshold=None, max_cat_to_onehot=None,\n",
       "              max_delta_step=None, max_depth=None, max_iter=10000,\n",
       "              max_leaves=None, min_child_weight=None, missing=nan,\n",
       "              monotone_constraints=None, multi_strategy=None, n_estimators=None,\n",
       "              n_jobs=None, num_parallel_tree=None, ...)</pre></div></div></div></div></div>"
      ],
      "text/plain": [
       "XGBClassifier(base_score=None, booster=None, callbacks=None,\n",
       "              colsample_bylevel=None, colsample_bynode=None,\n",
       "              colsample_bytree=None, device=None, early_stopping_rounds=None,\n",
       "              enable_categorical=False, eval_metric=None, feature_types=None,\n",
       "              gamma=None, grow_policy=None, importance_type=None,\n",
       "              interaction_constraints=None, learning_rate=None, max_bin=None,\n",
       "              max_cat_threshold=None, max_cat_to_onehot=None,\n",
       "              max_delta_step=None, max_depth=None, max_iter=10000,\n",
       "              max_leaves=None, min_child_weight=None, missing=nan,\n",
       "              monotone_constraints=None, multi_strategy=None, n_estimators=None,\n",
       "              n_jobs=None, num_parallel_tree=None, ...)"
      ]
     },
     "execution_count": 61,
     "metadata": {},
     "output_type": "execute_result"
    }
   ],
   "source": [
    "model_xgb = xgb.XGBClassifier(max_iter=10000)\n",
    "model_xgb.fit(X_train, Y_train)"
   ]
  },
  {
   "cell_type": "code",
   "execution_count": 62,
   "id": "da24bfae-46cc-4884-ad69-7c79aa65f94a",
   "metadata": {},
   "outputs": [
    {
     "data": {
      "text/plain": [
       "array([2, 0, 2, 2, 2, 2, 0, 1, 2, 2, 2, 2, 2, 0, 1, 2, 2, 0, 2, 2, 2, 2,\n",
       "       1, 0, 2, 2, 2, 2, 1, 2, 1, 2, 2, 1, 0, 2, 2, 1, 2, 2, 2, 2, 2, 2,\n",
       "       2, 2, 0, 2, 2, 2, 2, 2, 2, 2, 2, 2, 2, 0, 1, 2, 2, 2, 2, 2, 1, 0,\n",
       "       2, 0, 1, 1, 1, 1, 2, 1, 1, 2, 2, 2, 1, 2, 2, 2, 2, 0, 1, 1, 1, 0,\n",
       "       0, 1, 1, 1, 0, 2, 0, 0, 2, 1, 1, 1, 1, 1, 2, 1, 2, 2, 0, 2, 1, 2,\n",
       "       2, 1, 0, 2, 1, 0, 0, 2, 2, 2, 1, 2, 1, 2, 2, 1, 1, 1, 2, 2, 0, 0,\n",
       "       1])"
      ]
     },
     "execution_count": 62,
     "metadata": {},
     "output_type": "execute_result"
    }
   ],
   "source": [
    "predicted_xgb = model_xgb.predict(X_test)\n",
    "predicted_xgb"
   ]
  },
  {
   "cell_type": "code",
   "execution_count": 63,
   "id": "3107b20e-f80f-4b4e-b8f2-74954332b444",
   "metadata": {},
   "outputs": [
    {
     "data": {
      "text/plain": [
       "array(['Win', 'Draw', 'Win', 'Win', 'Win', 'Win', 'Draw', 'Lose', 'Win',\n",
       "       'Win', 'Win', 'Win', 'Win', 'Draw', 'Lose', 'Win', 'Win', 'Draw',\n",
       "       'Win', 'Win', 'Win', 'Win', 'Lose', 'Draw', 'Win', 'Win', 'Win',\n",
       "       'Win', 'Lose', 'Win', 'Lose', 'Win', 'Win', 'Lose', 'Draw', 'Win',\n",
       "       'Win', 'Lose', 'Win', 'Win', 'Win', 'Win', 'Win', 'Win', 'Win',\n",
       "       'Win', 'Draw', 'Win', 'Win', 'Win', 'Win', 'Win', 'Win', 'Win',\n",
       "       'Win', 'Win', 'Win', 'Draw', 'Lose', 'Win', 'Win', 'Win', 'Win',\n",
       "       'Win', 'Lose', 'Draw', 'Win', 'Draw', 'Lose', 'Lose', 'Lose',\n",
       "       'Lose', 'Win', 'Lose', 'Lose', 'Win', 'Win', 'Win', 'Lose', 'Win',\n",
       "       'Win', 'Win', 'Win', 'Draw', 'Lose', 'Lose', 'Lose', 'Draw',\n",
       "       'Draw', 'Lose', 'Lose', 'Lose', 'Draw', 'Win', 'Draw', 'Draw',\n",
       "       'Win', 'Lose', 'Lose', 'Lose', 'Lose', 'Lose', 'Win', 'Lose',\n",
       "       'Win', 'Win', 'Draw', 'Win', 'Lose', 'Win', 'Win', 'Lose', 'Draw',\n",
       "       'Win', 'Lose', 'Draw', 'Draw', 'Win', 'Win', 'Win', 'Lose', 'Win',\n",
       "       'Lose', 'Win', 'Win', 'Lose', 'Lose', 'Lose', 'Win', 'Win', 'Draw',\n",
       "       'Draw', 'Lose'], dtype=object)"
      ]
     },
     "execution_count": 63,
     "metadata": {},
     "output_type": "execute_result"
    }
   ],
   "source": [
    "target_prediction_xgb = le.inverse_transform(predicted_xgb)\n",
    "target_prediction_xgb"
   ]
  },
  {
   "cell_type": "code",
   "execution_count": 64,
   "id": "2f7a4b37-06a8-479e-8b40-112fbb402ae7",
   "metadata": {},
   "outputs": [
    {
     "data": {
      "image/png": "[encoded data removed]",
      "text/plain": [
       "<Figure size 1500x1500 with 2 Axes>"
      ]
     },
     "metadata": {},
     "output_type": "display_data"
    },
    {
     "name": "stdout",
     "output_type": "stream",
     "text": [
      "              precision    recall  f1-score   support\n",
      "\n",
      "        Draw       0.14      0.13      0.13        23\n",
      "        Lose       0.54      0.43      0.48        46\n",
      "         Win       0.59      0.69      0.64        64\n",
      "\n",
      "    accuracy                           0.50       133\n",
      "   macro avg       0.42      0.42      0.42       133\n",
      "weighted avg       0.50      0.50      0.50       133\n",
      "\n",
      "\n",
      "\n",
      "Accuracy:  0.5037593984962406\n",
      "Recall:  0.4175724637681159\n",
      "Precision:  0.42383292383292387\n",
      "F1 Score:  0.41764740119899885\n"
     ]
    }
   ],
   "source": [
    "confussion_matrix(Y_test, predicted_xgb, testing_class)"
   ]
  },
  {
   "cell_type": "code",
   "execution_count": 65,
   "id": "65743fa2-7549-464d-a089-e909bd701aeb",
   "metadata": {},
   "outputs": [
    {
     "data": {
      "text/plain": [
       "0.5037593984962406"
      ]
     },
     "execution_count": 65,
     "metadata": {},
     "output_type": "execute_result"
    }
   ],
   "source": [
    "accuracy_xgb = accuracy_score(Y_test, predicted_xgb)\n",
    "accuracy_xgb"
   ]
  },
  {
   "cell_type": "markdown",
   "id": "a4d0f2c7-1729-43bd-bbb0-179b1fc8956c",
   "metadata": {},
   "source": [
    "##### Random Forest Classification."
   ]
  },
  {
   "cell_type": "code",
   "execution_count": 66,
   "id": "c9231301-b6d0-42bc-89df-00656cc45ff6",
   "metadata": {},
   "outputs": [],
   "source": [
    "# 3rd: Random Forest Classifier method\n",
    "\n",
    "from sklearn.ensemble import RandomForestClassifier"
   ]
  },
  {
   "cell_type": "code",
   "execution_count": 67,
   "id": "51a0d733-0d66-4cb6-9d18-6c8ac825e98c",
   "metadata": {},
   "outputs": [
    {
     "data": {
      "text/html": [
       "<style>#sk-container-id-3 {color: black;}#sk-container-id-3 pre{padding: 0;}#sk-container-id-3 div.sk-toggleable {background-color: white;}#sk-container-id-3 label.sk-toggleable__label {cursor: pointer;display: block;width: 100%;margin-bottom: 0;padding: 0.3em;box-sizing: border-box;text-align: center;}#sk-container-id-3 label.sk-toggleable__label-arrow:before {content: \"▸\";float: left;margin-right: 0.25em;color: #696969;}#sk-container-id-3 label.sk-toggleable__label-arrow:hover:before {color: black;}#sk-container-id-3 div.sk-estimator:hover label.sk-toggleable__label-arrow:before {color: black;}#sk-container-id-3 div.sk-toggleable__content {max-height: 0;max-width: 0;overflow: hidden;text-align: left;background-color: #f0f8ff;}#sk-container-id-3 div.sk-toggleable__content pre {margin: 0.2em;color: black;border-radius: 0.25em;background-color: #f0f8ff;}#sk-container-id-3 input.sk-toggleable__control:checked~div.sk-toggleable__content {max-height: 200px;max-width: 100%;overflow: auto;}#sk-container-id-3 input.sk-toggleable__control:checked~label.sk-toggleable__label-arrow:before {content: \"▾\";}#sk-container-id-3 div.sk-estimator input.sk-toggleable__control:checked~label.sk-toggleable__label {background-color: #d4ebff;}#sk-container-id-3 div.sk-label input.sk-toggleable__control:checked~label.sk-toggleable__label {background-color: #d4ebff;}#sk-container-id-3 input.sk-hidden--visually {border: 0;clip: rect(1px 1px 1px 1px);clip: rect(1px, 1px, 1px, 1px);height: 1px;margin: -1px;overflow: hidden;padding: 0;position: absolute;width: 1px;}#sk-container-id-3 div.sk-estimator {font-family: monospace;background-color: #f0f8ff;border: 1px dotted black;border-radius: 0.25em;box-sizing: border-box;margin-bottom: 0.5em;}#sk-container-id-3 div.sk-estimator:hover {background-color: #d4ebff;}#sk-container-id-3 div.sk-parallel-item::after {content: \"\";width: 100%;border-bottom: 1px solid gray;flex-grow: 1;}#sk-container-id-3 div.sk-label:hover label.sk-toggleable__label {background-color: #d4ebff;}#sk-container-id-3 div.sk-serial::before {content: \"\";position: absolute;border-left: 1px solid gray;box-sizing: border-box;top: 0;bottom: 0;left: 50%;z-index: 0;}#sk-container-id-3 div.sk-serial {display: flex;flex-direction: column;align-items: center;background-color: white;padding-right: 0.2em;padding-left: 0.2em;position: relative;}#sk-container-id-3 div.sk-item {position: relative;z-index: 1;}#sk-container-id-3 div.sk-parallel {display: flex;align-items: stretch;justify-content: center;background-color: white;position: relative;}#sk-container-id-3 div.sk-item::before, #sk-container-id-3 div.sk-parallel-item::before {content: \"\";position: absolute;border-left: 1px solid gray;box-sizing: border-box;top: 0;bottom: 0;left: 50%;z-index: -1;}#sk-container-id-3 div.sk-parallel-item {display: flex;flex-direction: column;z-index: 1;position: relative;background-color: white;}#sk-container-id-3 div.sk-parallel-item:first-child::after {align-self: flex-end;width: 50%;}#sk-container-id-3 div.sk-parallel-item:last-child::after {align-self: flex-start;width: 50%;}#sk-container-id-3 div.sk-parallel-item:only-child::after {width: 0;}#sk-container-id-3 div.sk-dashed-wrapped {border: 1px dashed gray;margin: 0 0.4em 0.5em 0.4em;box-sizing: border-box;padding-bottom: 0.4em;background-color: white;}#sk-container-id-3 div.sk-label label {font-family: monospace;font-weight: bold;display: inline-block;line-height: 1.2em;}#sk-container-id-3 div.sk-label-container {text-align: center;}#sk-container-id-3 div.sk-container {/* jupyter's `normalize.less` sets `[hidden] { display: none; }` but bootstrap.min.css set `[hidden] { display: none !important; }` so we also need the `!important` here to be able to override the default hidden behavior on the sphinx rendered scikit-learn.org. See: https://github.com/scikit-learn/scikit-learn/issues/21755 */display: inline-block !important;position: relative;}#sk-container-id-3 div.sk-text-repr-fallback {display: none;}</style><div id=\"sk-container-id-3\" class=\"sk-top-container\"><div class=\"sk-text-repr-fallback\"><pre>RandomForestClassifier()</pre><b>In a Jupyter environment, please rerun this cell to show the HTML representation or trust the notebook. <br />On GitHub, the HTML representation is unable to render, please try loading this page with nbviewer.org.</b></div><div class=\"sk-container\" hidden><div class=\"sk-item\"><div class=\"sk-estimator sk-toggleable\"><input class=\"sk-toggleable__control sk-hidden--visually\" id=\"sk-estimator-id-3\" type=\"checkbox\" checked><label for=\"sk-estimator-id-3\" class=\"sk-toggleable__label sk-toggleable__label-arrow\">RandomForestClassifier</label><div class=\"sk-toggleable__content\"><pre>RandomForestClassifier()</pre></div></div></div></div></div>"
      ],
      "text/plain": [
       "RandomForestClassifier()"
      ]
     },
     "execution_count": 67,
     "metadata": {},
     "output_type": "execute_result"
    }
   ],
   "source": [
    "model_rfc = RandomForestClassifier()\n",
    "model_rfc.fit(X_train, Y_train)"
   ]
  },
  {
   "cell_type": "code",
   "execution_count": 68,
   "id": "9f133eb4-3dd1-40fa-b4a2-dad84c8b3e41",
   "metadata": {},
   "outputs": [
    {
     "data": {
      "text/plain": [
       "array([0, 1, 2, 2, 2, 2, 2, 0, 2, 2, 2, 2, 2, 1, 1, 2, 0, 2, 1, 2, 2, 2,\n",
       "       1, 2, 2, 1, 2, 2, 1, 2, 1, 2, 2, 1, 2, 2, 2, 1, 2, 2, 2, 0, 2, 2,\n",
       "       2, 2, 0, 2, 2, 2, 2, 2, 2, 2, 2, 2, 2, 1, 2, 2, 2, 1, 1, 2, 1, 2,\n",
       "       0, 2, 2, 2, 1, 2, 1, 2, 1, 2, 2, 2, 1, 2, 2, 2, 2, 1, 1, 1, 1, 1,\n",
       "       2, 1, 2, 1, 0, 2, 0, 0, 1, 1, 2, 1, 1, 2, 2, 2, 2, 2, 2, 2, 1, 2,\n",
       "       2, 1, 1, 2, 1, 0, 0, 2, 2, 1, 1, 2, 1, 2, 2, 2, 1, 2, 2, 2, 2, 2,\n",
       "       1])"
      ]
     },
     "execution_count": 68,
     "metadata": {},
     "output_type": "execute_result"
    }
   ],
   "source": [
    "predicted_rfc = model_rfc.predict(X_test)\n",
    "predicted_rfc"
   ]
  },
  {
   "cell_type": "code",
   "execution_count": 69,
   "id": "0b101c82-0e88-45bf-85e4-d12bed5026ef",
   "metadata": {},
   "outputs": [
    {
     "data": {
      "text/plain": [
       "array(['Draw', 'Lose', 'Win', 'Win', 'Win', 'Win', 'Win', 'Draw', 'Win',\n",
       "       'Win', 'Win', 'Win', 'Win', 'Lose', 'Lose', 'Win', 'Draw', 'Win',\n",
       "       'Lose', 'Win', 'Win', 'Win', 'Lose', 'Win', 'Win', 'Lose', 'Win',\n",
       "       'Win', 'Lose', 'Win', 'Lose', 'Win', 'Win', 'Lose', 'Win', 'Win',\n",
       "       'Win', 'Lose', 'Win', 'Win', 'Win', 'Draw', 'Win', 'Win', 'Win',\n",
       "       'Win', 'Draw', 'Win', 'Win', 'Win', 'Win', 'Win', 'Win', 'Win',\n",
       "       'Win', 'Win', 'Win', 'Lose', 'Win', 'Win', 'Win', 'Lose', 'Lose',\n",
       "       'Win', 'Lose', 'Win', 'Draw', 'Win', 'Win', 'Win', 'Lose', 'Win',\n",
       "       'Lose', 'Win', 'Lose', 'Win', 'Win', 'Win', 'Lose', 'Win', 'Win',\n",
       "       'Win', 'Win', 'Lose', 'Lose', 'Lose', 'Lose', 'Lose', 'Win',\n",
       "       'Lose', 'Win', 'Lose', 'Draw', 'Win', 'Draw', 'Draw', 'Lose',\n",
       "       'Lose', 'Win', 'Lose', 'Lose', 'Win', 'Win', 'Win', 'Win', 'Win',\n",
       "       'Win', 'Win', 'Lose', 'Win', 'Win', 'Lose', 'Lose', 'Win', 'Lose',\n",
       "       'Draw', 'Draw', 'Win', 'Win', 'Lose', 'Lose', 'Win', 'Lose', 'Win',\n",
       "       'Win', 'Win', 'Lose', 'Win', 'Win', 'Win', 'Win', 'Win', 'Lose'],\n",
       "      dtype=object)"
      ]
     },
     "execution_count": 69,
     "metadata": {},
     "output_type": "execute_result"
    }
   ],
   "source": [
    "target_prediction_rfc = le.inverse_transform(predicted_rfc)\n",
    "target_prediction_rfc"
   ]
  },
  {
   "cell_type": "code",
   "execution_count": 70,
   "id": "66da45f8-7b1d-4aaa-a2f1-34fef6aebb16",
   "metadata": {},
   "outputs": [
    {
     "data": {
      "image/png": "[encoded data removed]",
      "text/plain": [
       "<Figure size 1500x1500 with 2 Axes>"
      ]
     },
     "metadata": {},
     "output_type": "display_data"
    },
    {
     "name": "stdout",
     "output_type": "stream",
     "text": [
      "              precision    recall  f1-score   support\n",
      "\n",
      "        Draw       0.18      0.09      0.12        23\n",
      "        Lose       0.50      0.41      0.45        46\n",
      "         Win       0.52      0.69      0.59        64\n",
      "\n",
      "    accuracy                           0.49       133\n",
      "   macro avg       0.40      0.40      0.39       133\n",
      "weighted avg       0.46      0.49      0.46       133\n",
      "\n",
      "\n",
      "\n",
      "Accuracy:  0.48872180451127817\n",
      "Recall:  0.3958333333333333\n",
      "Precision:  0.40187590187590194\n",
      "F1 Score:  0.38820753526635876\n"
     ]
    }
   ],
   "source": [
    "confussion_matrix(Y_test, predicted_rfc, testing_class)"
   ]
  },
  {
   "cell_type": "code",
   "execution_count": 71,
   "id": "f1fa0f6a-725b-4453-a7a0-255430562e21",
   "metadata": {},
   "outputs": [
    {
     "data": {
      "text/plain": [
       "0.48872180451127817"
      ]
     },
     "execution_count": 71,
     "metadata": {},
     "output_type": "execute_result"
    }
   ],
   "source": [
    "accuracy_rfc = accuracy_score(Y_test, predicted_rfc)\n",
    "accuracy_rfc"
   ]
  },
  {
   "cell_type": "markdown",
   "id": "5503c403-833b-4d73-ad2c-5e300fc9c78a",
   "metadata": {},
   "source": [
    "__In Conclusion__: I try 3 machine learning classification models:\n",
    "+ Support Vector Machine.\n",
    "+ __Xgboost__ (__The best model__)\n",
    "+ Random Forest classification.\n",
    "\n",
    "Through the accuracy and confusion matrix, I realize the Xgboost is the best model currently."
   ]
  },
  {
   "cell_type": "markdown",
   "id": "8380806e-0bbf-44a6-bd94-f6d856274ad3",
   "metadata": {},
   "source": [
    "### Problem 3\n",
    "\n",
    "Currently, the performance is still low. It's related to __the imbalance data__\n",
    "\n",
    "__Win > Lose > Draw__ . To solve the issue, I apply upsampling method for \"Lose\"/ \"Draw\" to reduce the imbalance issue.\n",
    "\n",
    "By using the upsampling method, I can generate various data including different columns."
   ]
  },
  {
   "cell_type": "code",
   "execution_count": 72,
   "id": "5cedf51e-8c6c-4e7a-a0b6-dd0e8d41aa9b",
   "metadata": {},
   "outputs": [
    {
     "name": "stdout",
     "output_type": "stream",
     "text": [
      "<class 'pandas.core.frame.DataFrame'>\n",
      "Index: 530 entries, 18 to 102\n",
      "Data columns (total 8 columns):\n",
      " #   Column     Non-Null Count  Dtype\n",
      "---  ------     --------------  -----\n",
      " 0   Matchweek  530 non-null    int64\n",
      " 1   Day        530 non-null    int64\n",
      " 2   Time       530 non-null    int64\n",
      " 3   home_team  530 non-null    int64\n",
      " 4   away_team  530 non-null    int64\n",
      " 5   Venue      530 non-null    int64\n",
      " 6   Referee    530 non-null    int64\n",
      " 7   target     530 non-null    int64\n",
      "dtypes: int64(8)\n",
      "memory usage: 37.3 KB\n"
     ]
    }
   ],
   "source": [
    "# I only apply upsampling method for X_train and Y_train data.\n",
    "\n",
    "X_data_new = pd.concat([X_train, Y_train], axis=1)\n",
    "X_data_new.info()"
   ]
  },
  {
   "cell_type": "markdown",
   "id": "3ea1e0ba-4604-4f82-91a7-14d288ea7914",
   "metadata": {},
   "source": [
    "I split data into 3 data:\n",
    "+ \"Win\" data.\n",
    "+ \"Lose\" data.\n",
    "+ \"Draw\" data."
   ]
  },
  {
   "cell_type": "code",
   "execution_count": 73,
   "id": "ff344ce0-b56c-423d-ad54-6e4b52a738b0",
   "metadata": {},
   "outputs": [],
   "source": [
    "X_train_data_2 = X_data_new[X_data_new[\"target\"] == 2]\n",
    "X_train_data_1  = X_data_new[X_data_new[\"target\"] == 1]\n",
    "X_train_data_0  = X_data_new[X_data_new[\"target\"] == 0]"
   ]
  },
  {
   "cell_type": "code",
   "execution_count": 74,
   "id": "43b6646f-6dce-43b1-a646-64369af8127b",
   "metadata": {},
   "outputs": [],
   "source": [
    "from sklearn.utils import resample"
   ]
  },
  {
   "cell_type": "code",
   "execution_count": 75,
   "id": "6b58007b-f0aa-45c5-9b1b-5264d4ed846b",
   "metadata": {},
   "outputs": [
    {
     "data": {
      "text/html": [
       "<div>\n",
       "<style scoped>\n",
       "    .dataframe tbody tr th:only-of-type {\n",
       "        vertical-align: middle;\n",
       "    }\n",
       "\n",
       "    .dataframe tbody tr th {\n",
       "        vertical-align: top;\n",
       "    }\n",
       "\n",
       "    .dataframe thead th {\n",
       "        text-align: right;\n",
       "    }\n",
       "</style>\n",
       "<table border=\"1\" class=\"dataframe\">\n",
       "  <thead>\n",
       "    <tr style=\"text-align: right;\">\n",
       "      <th></th>\n",
       "      <th>Matchweek</th>\n",
       "      <th>Day</th>\n",
       "      <th>Time</th>\n",
       "      <th>home_team</th>\n",
       "      <th>away_team</th>\n",
       "      <th>Venue</th>\n",
       "      <th>Referee</th>\n",
       "      <th>target</th>\n",
       "    </tr>\n",
       "  </thead>\n",
       "  <tbody>\n",
       "    <tr>\n",
       "      <th>493</th>\n",
       "      <td>12</td>\n",
       "      <td>2</td>\n",
       "      <td>6</td>\n",
       "      <td>7</td>\n",
       "      <td>8</td>\n",
       "      <td>14</td>\n",
       "      <td>21</td>\n",
       "      <td>1</td>\n",
       "    </tr>\n",
       "    <tr>\n",
       "      <th>521</th>\n",
       "      <td>15</td>\n",
       "      <td>5</td>\n",
       "      <td>17</td>\n",
       "      <td>13</td>\n",
       "      <td>0</td>\n",
       "      <td>9</td>\n",
       "      <td>21</td>\n",
       "      <td>1</td>\n",
       "    </tr>\n",
       "    <tr>\n",
       "      <th>421</th>\n",
       "      <td>5</td>\n",
       "      <td>2</td>\n",
       "      <td>6</td>\n",
       "      <td>21</td>\n",
       "      <td>14</td>\n",
       "      <td>11</td>\n",
       "      <td>1</td>\n",
       "      <td>1</td>\n",
       "    </tr>\n",
       "    <tr>\n",
       "      <th>501</th>\n",
       "      <td>13</td>\n",
       "      <td>2</td>\n",
       "      <td>6</td>\n",
       "      <td>5</td>\n",
       "      <td>21</td>\n",
       "      <td>21</td>\n",
       "      <td>21</td>\n",
       "      <td>1</td>\n",
       "    </tr>\n",
       "    <tr>\n",
       "      <th>568</th>\n",
       "      <td>20</td>\n",
       "      <td>2</td>\n",
       "      <td>1</td>\n",
       "      <td>13</td>\n",
       "      <td>6</td>\n",
       "      <td>9</td>\n",
       "      <td>15</td>\n",
       "      <td>1</td>\n",
       "    </tr>\n",
       "  </tbody>\n",
       "</table>\n",
       "</div>"
      ],
      "text/plain": [
       "     Matchweek  Day  Time  home_team  away_team  Venue  Referee  target\n",
       "493         12    2     6          7          8     14       21       1\n",
       "521         15    5    17         13          0      9       21       1\n",
       "421          5    2     6         21         14     11        1       1\n",
       "501         13    2     6          5         21     21       21       1\n",
       "568         20    2     1         13          6      9       15       1"
      ]
     },
     "execution_count": 75,
     "metadata": {},
     "output_type": "execute_result"
    }
   ],
   "source": [
    "data_1_upsample = resample(X_train_data_1,\n",
    "             replace=True,\n",
    "             n_samples=len(X_train_data_2),\n",
    "             random_state=42)\n",
    "\n",
    "data_1_upsample.target.value_counts()\n",
    "data_1_upsample.head()"
   ]
  },
  {
   "cell_type": "code",
   "execution_count": 76,
   "id": "fff16911-59eb-4875-aaa7-e58d1ea62459",
   "metadata": {},
   "outputs": [
    {
     "data": {
      "text/html": [
       "<div>\n",
       "<style scoped>\n",
       "    .dataframe tbody tr th:only-of-type {\n",
       "        vertical-align: middle;\n",
       "    }\n",
       "\n",
       "    .dataframe tbody tr th {\n",
       "        vertical-align: top;\n",
       "    }\n",
       "\n",
       "    .dataframe thead th {\n",
       "        text-align: right;\n",
       "    }\n",
       "</style>\n",
       "<table border=\"1\" class=\"dataframe\">\n",
       "  <thead>\n",
       "    <tr style=\"text-align: right;\">\n",
       "      <th></th>\n",
       "      <th>Matchweek</th>\n",
       "      <th>Day</th>\n",
       "      <th>Time</th>\n",
       "      <th>home_team</th>\n",
       "      <th>away_team</th>\n",
       "      <th>Venue</th>\n",
       "      <th>Referee</th>\n",
       "      <th>target</th>\n",
       "    </tr>\n",
       "  </thead>\n",
       "  <tbody>\n",
       "    <tr>\n",
       "      <th>47</th>\n",
       "      <td>5</td>\n",
       "      <td>6</td>\n",
       "      <td>15</td>\n",
       "      <td>21</td>\n",
       "      <td>20</td>\n",
       "      <td>11</td>\n",
       "      <td>16</td>\n",
       "      <td>0</td>\n",
       "    </tr>\n",
       "    <tr>\n",
       "      <th>12</th>\n",
       "      <td>2</td>\n",
       "      <td>2</td>\n",
       "      <td>6</td>\n",
       "      <td>19</td>\n",
       "      <td>10</td>\n",
       "      <td>16</td>\n",
       "      <td>27</td>\n",
       "      <td>0</td>\n",
       "    </tr>\n",
       "    <tr>\n",
       "      <th>100</th>\n",
       "      <td>12</td>\n",
       "      <td>6</td>\n",
       "      <td>14</td>\n",
       "      <td>3</td>\n",
       "      <td>6</td>\n",
       "      <td>2</td>\n",
       "      <td>9</td>\n",
       "      <td>0</td>\n",
       "    </tr>\n",
       "    <tr>\n",
       "      <th>212</th>\n",
       "      <td>23</td>\n",
       "      <td>2</td>\n",
       "      <td>6</td>\n",
       "      <td>7</td>\n",
       "      <td>4</td>\n",
       "      <td>14</td>\n",
       "      <td>13</td>\n",
       "      <td>0</td>\n",
       "    </tr>\n",
       "    <tr>\n",
       "      <th>295</th>\n",
       "      <td>30</td>\n",
       "      <td>3</td>\n",
       "      <td>11</td>\n",
       "      <td>12</td>\n",
       "      <td>0</td>\n",
       "      <td>0</td>\n",
       "      <td>15</td>\n",
       "      <td>0</td>\n",
       "    </tr>\n",
       "  </tbody>\n",
       "</table>\n",
       "</div>"
      ],
      "text/plain": [
       "     Matchweek  Day  Time  home_team  away_team  Venue  Referee  target\n",
       "47           5    6    15         21         20     11       16       0\n",
       "12           2    2     6         19         10     16       27       0\n",
       "100         12    6    14          3          6      2        9       0\n",
       "212         23    2     6          7          4     14       13       0\n",
       "295         30    3    11         12          0      0       15       0"
      ]
     },
     "execution_count": 76,
     "metadata": {},
     "output_type": "execute_result"
    }
   ],
   "source": [
    "data_0_upsample = resample(X_train_data_0,\n",
    "             replace=True,\n",
    "             n_samples=len(X_train_data_2),\n",
    "             random_state=42)\n",
    "data_0_upsample.head()"
   ]
  },
  {
   "cell_type": "code",
   "execution_count": 77,
   "id": "65827020-b97c-4d4b-9ff9-c1a1e9fe9e53",
   "metadata": {},
   "outputs": [],
   "source": [
    "X_train_data_new = pd.concat([X_train_data_2, data_0_upsample, data_1_upsample], axis=0)"
   ]
  },
  {
   "cell_type": "code",
   "execution_count": 78,
   "id": "36cdaedd-add2-4361-a181-2e73e599ed92",
   "metadata": {},
   "outputs": [
    {
     "name": "stdout",
     "output_type": "stream",
     "text": [
      "<class 'pandas.core.frame.DataFrame'>\n",
      "Index: 750 entries, 249 to 531\n",
      "Data columns (total 8 columns):\n",
      " #   Column     Non-Null Count  Dtype\n",
      "---  ------     --------------  -----\n",
      " 0   Matchweek  750 non-null    int64\n",
      " 1   Day        750 non-null    int64\n",
      " 2   Time       750 non-null    int64\n",
      " 3   home_team  750 non-null    int64\n",
      " 4   away_team  750 non-null    int64\n",
      " 5   Venue      750 non-null    int64\n",
      " 6   Referee    750 non-null    int64\n",
      " 7   target     750 non-null    int64\n",
      "dtypes: int64(8)\n",
      "memory usage: 52.7 KB\n"
     ]
    }
   ],
   "source": [
    "X_train_data_new.info()"
   ]
  },
  {
   "cell_type": "code",
   "execution_count": 79,
   "id": "68870bf5-14dc-4b69-9b57-e09327e11d35",
   "metadata": {},
   "outputs": [],
   "source": [
    "# Split X_train/ Y_train data again\n",
    "\n",
    "col_list_train = [\"Matchweek\", \"Day\", \"Time\", \"home_team\",\"away_team\", \"Venue\", \"Referee\"]\n",
    "X_train2 = X_train_data_new[col_list_train] # the new data \n",
    "Y_train2 = X_train_data_new[\"target\"]"
   ]
  },
  {
   "cell_type": "code",
   "execution_count": 80,
   "id": "d89b999a-07d5-4bd9-a24d-235089c023ca",
   "metadata": {},
   "outputs": [
    {
     "name": "stderr",
     "output_type": "stream",
     "text": [
      "/Users/quangtn/opt/anaconda3/envs/fastapi_course/lib/python3.10/site-packages/xgboost/core.py:160: UserWarning: [16:13:41] WARNING: /Users/runner/work/xgboost/xgboost/src/learner.cc:742: \n",
      "Parameters: { \"max_iter\" } are not used.\n",
      "\n",
      "  warnings.warn(smsg, UserWarning)\n"
     ]
    },
    {
     "data": {
      "text/html": [
       "<style>#sk-container-id-4 {color: black;}#sk-container-id-4 pre{padding: 0;}#sk-container-id-4 div.sk-toggleable {background-color: white;}#sk-container-id-4 label.sk-toggleable__label {cursor: pointer;display: block;width: 100%;margin-bottom: 0;padding: 0.3em;box-sizing: border-box;text-align: center;}#sk-container-id-4 label.sk-toggleable__label-arrow:before {content: \"▸\";float: left;margin-right: 0.25em;color: #696969;}#sk-container-id-4 label.sk-toggleable__label-arrow:hover:before {color: black;}#sk-container-id-4 div.sk-estimator:hover label.sk-toggleable__label-arrow:before {color: black;}#sk-container-id-4 div.sk-toggleable__content {max-height: 0;max-width: 0;overflow: hidden;text-align: left;background-color: #f0f8ff;}#sk-container-id-4 div.sk-toggleable__content pre {margin: 0.2em;color: black;border-radius: 0.25em;background-color: #f0f8ff;}#sk-container-id-4 input.sk-toggleable__control:checked~div.sk-toggleable__content {max-height: 200px;max-width: 100%;overflow: auto;}#sk-container-id-4 input.sk-toggleable__control:checked~label.sk-toggleable__label-arrow:before {content: \"▾\";}#sk-container-id-4 div.sk-estimator input.sk-toggleable__control:checked~label.sk-toggleable__label {background-color: #d4ebff;}#sk-container-id-4 div.sk-label input.sk-toggleable__control:checked~label.sk-toggleable__label {background-color: #d4ebff;}#sk-container-id-4 input.sk-hidden--visually {border: 0;clip: rect(1px 1px 1px 1px);clip: rect(1px, 1px, 1px, 1px);height: 1px;margin: -1px;overflow: hidden;padding: 0;position: absolute;width: 1px;}#sk-container-id-4 div.sk-estimator {font-family: monospace;background-color: #f0f8ff;border: 1px dotted black;border-radius: 0.25em;box-sizing: border-box;margin-bottom: 0.5em;}#sk-container-id-4 div.sk-estimator:hover {background-color: #d4ebff;}#sk-container-id-4 div.sk-parallel-item::after {content: \"\";width: 100%;border-bottom: 1px solid gray;flex-grow: 1;}#sk-container-id-4 div.sk-label:hover label.sk-toggleable__label {background-color: #d4ebff;}#sk-container-id-4 div.sk-serial::before {content: \"\";position: absolute;border-left: 1px solid gray;box-sizing: border-box;top: 0;bottom: 0;left: 50%;z-index: 0;}#sk-container-id-4 div.sk-serial {display: flex;flex-direction: column;align-items: center;background-color: white;padding-right: 0.2em;padding-left: 0.2em;position: relative;}#sk-container-id-4 div.sk-item {position: relative;z-index: 1;}#sk-container-id-4 div.sk-parallel {display: flex;align-items: stretch;justify-content: center;background-color: white;position: relative;}#sk-container-id-4 div.sk-item::before, #sk-container-id-4 div.sk-parallel-item::before {content: \"\";position: absolute;border-left: 1px solid gray;box-sizing: border-box;top: 0;bottom: 0;left: 50%;z-index: -1;}#sk-container-id-4 div.sk-parallel-item {display: flex;flex-direction: column;z-index: 1;position: relative;background-color: white;}#sk-container-id-4 div.sk-parallel-item:first-child::after {align-self: flex-end;width: 50%;}#sk-container-id-4 div.sk-parallel-item:last-child::after {align-self: flex-start;width: 50%;}#sk-container-id-4 div.sk-parallel-item:only-child::after {width: 0;}#sk-container-id-4 div.sk-dashed-wrapped {border: 1px dashed gray;margin: 0 0.4em 0.5em 0.4em;box-sizing: border-box;padding-bottom: 0.4em;background-color: white;}#sk-container-id-4 div.sk-label label {font-family: monospace;font-weight: bold;display: inline-block;line-height: 1.2em;}#sk-container-id-4 div.sk-label-container {text-align: center;}#sk-container-id-4 div.sk-container {/* jupyter's `normalize.less` sets `[hidden] { display: none; }` but bootstrap.min.css set `[hidden] { display: none !important; }` so we also need the `!important` here to be able to override the default hidden behavior on the sphinx rendered scikit-learn.org. See: https://github.com/scikit-learn/scikit-learn/issues/21755 */display: inline-block !important;position: relative;}#sk-container-id-4 div.sk-text-repr-fallback {display: none;}</style><div id=\"sk-container-id-4\" class=\"sk-top-container\"><div class=\"sk-text-repr-fallback\"><pre>XGBClassifier(base_score=None, booster=None, callbacks=None,\n",
       "              colsample_bylevel=None, colsample_bynode=None,\n",
       "              colsample_bytree=None, device=None, early_stopping_rounds=None,\n",
       "              enable_categorical=False, eval_metric=None, feature_types=None,\n",
       "              gamma=None, grow_policy=None, importance_type=None,\n",
       "              interaction_constraints=None, learning_rate=None, max_bin=None,\n",
       "              max_cat_threshold=None, max_cat_to_onehot=None,\n",
       "              max_delta_step=None, max_depth=None, max_iter=10000,\n",
       "              max_leaves=None, min_child_weight=None, missing=nan,\n",
       "              monotone_constraints=None, multi_strategy=None, n_estimators=None,\n",
       "              n_jobs=None, num_parallel_tree=None, ...)</pre><b>In a Jupyter environment, please rerun this cell to show the HTML representation or trust the notebook. <br />On GitHub, the HTML representation is unable to render, please try loading this page with nbviewer.org.</b></div><div class=\"sk-container\" hidden><div class=\"sk-item\"><div class=\"sk-estimator sk-toggleable\"><input class=\"sk-toggleable__control sk-hidden--visually\" id=\"sk-estimator-id-4\" type=\"checkbox\" checked><label for=\"sk-estimator-id-4\" class=\"sk-toggleable__label sk-toggleable__label-arrow\">XGBClassifier</label><div class=\"sk-toggleable__content\"><pre>XGBClassifier(base_score=None, booster=None, callbacks=None,\n",
       "              colsample_bylevel=None, colsample_bynode=None,\n",
       "              colsample_bytree=None, device=None, early_stopping_rounds=None,\n",
       "              enable_categorical=False, eval_metric=None, feature_types=None,\n",
       "              gamma=None, grow_policy=None, importance_type=None,\n",
       "              interaction_constraints=None, learning_rate=None, max_bin=None,\n",
       "              max_cat_threshold=None, max_cat_to_onehot=None,\n",
       "              max_delta_step=None, max_depth=None, max_iter=10000,\n",
       "              max_leaves=None, min_child_weight=None, missing=nan,\n",
       "              monotone_constraints=None, multi_strategy=None, n_estimators=None,\n",
       "              n_jobs=None, num_parallel_tree=None, ...)</pre></div></div></div></div></div>"
      ],
      "text/plain": [
       "XGBClassifier(base_score=None, booster=None, callbacks=None,\n",
       "              colsample_bylevel=None, colsample_bynode=None,\n",
       "              colsample_bytree=None, device=None, early_stopping_rounds=None,\n",
       "              enable_categorical=False, eval_metric=None, feature_types=None,\n",
       "              gamma=None, grow_policy=None, importance_type=None,\n",
       "              interaction_constraints=None, learning_rate=None, max_bin=None,\n",
       "              max_cat_threshold=None, max_cat_to_onehot=None,\n",
       "              max_delta_step=None, max_depth=None, max_iter=10000,\n",
       "              max_leaves=None, min_child_weight=None, missing=nan,\n",
       "              monotone_constraints=None, multi_strategy=None, n_estimators=None,\n",
       "              n_jobs=None, num_parallel_tree=None, ...)"
      ]
     },
     "execution_count": 80,
     "metadata": {},
     "output_type": "execute_result"
    }
   ],
   "source": [
    "model_xgb2 = xgb.XGBClassifier(max_iter=10000)\n",
    "model_xgb2.fit(X_train2, Y_train2)"
   ]
  },
  {
   "cell_type": "code",
   "execution_count": 81,
   "id": "17c66d19-ebab-4873-afff-c51ebe83fafa",
   "metadata": {},
   "outputs": [
    {
     "data": {
      "text/plain": [
       "array([2, 0, 2, 2, 2, 2, 0, 0, 2, 2, 2, 2, 2, 1, 1, 2, 2, 2, 2, 2, 2, 2,\n",
       "       1, 0, 2, 1, 2, 2, 1, 2, 2, 2, 2, 1, 2, 2, 2, 1, 2, 2, 2, 2, 2, 2,\n",
       "       2, 2, 0, 1, 2, 2, 2, 2, 1, 2, 2, 2, 2, 0, 1, 2, 2, 2, 2, 2, 1, 1,\n",
       "       2, 0, 1, 2, 1, 1, 2, 0, 1, 2, 2, 2, 2, 2, 0, 2, 2, 2, 1, 1, 1, 1,\n",
       "       0, 2, 0, 1, 0, 2, 0, 0, 2, 2, 1, 1, 1, 1, 2, 1, 0, 2, 0, 2, 1, 2,\n",
       "       2, 0, 1, 2, 1, 0, 0, 2, 1, 2, 1, 2, 1, 2, 2, 1, 0, 2, 2, 2, 0, 2,\n",
       "       0])"
      ]
     },
     "execution_count": 81,
     "metadata": {},
     "output_type": "execute_result"
    }
   ],
   "source": [
    "predicted_xgb2 = model_xgb2.predict(X_test)\n",
    "predicted_xgb2"
   ]
  },
  {
   "cell_type": "code",
   "execution_count": 82,
   "id": "c327da1f-e805-4995-b6cc-4e98201fdc52",
   "metadata": {},
   "outputs": [
    {
     "data": {
      "text/plain": [
       "array(['Win', 'Draw', 'Win', 'Win', 'Win', 'Win', 'Draw', 'Draw', 'Win',\n",
       "       'Win', 'Win', 'Win', 'Win', 'Lose', 'Lose', 'Win', 'Win', 'Win',\n",
       "       'Win', 'Win', 'Win', 'Win', 'Lose', 'Draw', 'Win', 'Lose', 'Win',\n",
       "       'Win', 'Lose', 'Win', 'Win', 'Win', 'Win', 'Lose', 'Win', 'Win',\n",
       "       'Win', 'Lose', 'Win', 'Win', 'Win', 'Win', 'Win', 'Win', 'Win',\n",
       "       'Win', 'Draw', 'Lose', 'Win', 'Win', 'Win', 'Win', 'Lose', 'Win',\n",
       "       'Win', 'Win', 'Win', 'Draw', 'Lose', 'Win', 'Win', 'Win', 'Win',\n",
       "       'Win', 'Lose', 'Lose', 'Win', 'Draw', 'Lose', 'Win', 'Lose',\n",
       "       'Lose', 'Win', 'Draw', 'Lose', 'Win', 'Win', 'Win', 'Win', 'Win',\n",
       "       'Draw', 'Win', 'Win', 'Win', 'Lose', 'Lose', 'Lose', 'Lose',\n",
       "       'Draw', 'Win', 'Draw', 'Lose', 'Draw', 'Win', 'Draw', 'Draw',\n",
       "       'Win', 'Win', 'Lose', 'Lose', 'Lose', 'Lose', 'Win', 'Lose',\n",
       "       'Draw', 'Win', 'Draw', 'Win', 'Lose', 'Win', 'Win', 'Draw', 'Lose',\n",
       "       'Win', 'Lose', 'Draw', 'Draw', 'Win', 'Lose', 'Win', 'Lose', 'Win',\n",
       "       'Lose', 'Win', 'Win', 'Lose', 'Draw', 'Win', 'Win', 'Win', 'Draw',\n",
       "       'Win', 'Draw'], dtype=object)"
      ]
     },
     "execution_count": 82,
     "metadata": {},
     "output_type": "execute_result"
    }
   ],
   "source": [
    "target_prediction_xgb2 = le.inverse_transform(predicted_xgb2)\n",
    "target_prediction_xgb2"
   ]
  },
  {
   "cell_type": "code",
   "execution_count": 83,
   "id": "01ca4fd9-94cb-4cd3-ad59-9f2315c8bec5",
   "metadata": {},
   "outputs": [
    {
     "data": {
      "image/png": "[encoded data removed]",
      "text/plain": [
       "<Figure size 1500x1500 with 2 Axes>"
      ]
     },
     "metadata": {},
     "output_type": "display_data"
    },
    {
     "name": "stdout",
     "output_type": "stream",
     "text": [
      "              precision    recall  f1-score   support\n",
      "\n",
      "        Draw       0.14      0.13      0.13        23\n",
      "        Lose       0.52      0.37      0.43        46\n",
      "         Win       0.55      0.67      0.61        64\n",
      "\n",
      "    accuracy                           0.47       133\n",
      "   macro avg       0.40      0.39      0.39       133\n",
      "weighted avg       0.47      0.47      0.46       133\n",
      "\n",
      "\n",
      "\n",
      "Accuracy:  0.47368421052631576\n",
      "Recall:  0.390625\n",
      "Precision:  0.40093240093240096\n",
      "F1 Score:  0.3897822943285593\n"
     ]
    }
   ],
   "source": [
    "confussion_matrix(Y_test, predicted_xgb2, testing_class)"
   ]
  },
  {
   "cell_type": "code",
   "execution_count": 84,
   "id": "e3bc393c-65ed-499d-b2e8-a24f64bbde8e",
   "metadata": {},
   "outputs": [
    {
     "data": {
      "text/plain": [
       "0.47368421052631576"
      ]
     },
     "execution_count": 84,
     "metadata": {},
     "output_type": "execute_result"
    }
   ],
   "source": [
    "accuracy_xgb2 = accuracy_score(Y_test, predicted_xgb2)\n",
    "accuracy_xgb2"
   ]
  },
  {
   "cell_type": "code",
   "execution_count": 85,
   "id": "1d7159f8-b613-4eba-9b9e-3b1a27da3c54",
   "metadata": {},
   "outputs": [
    {
     "name": "stderr",
     "output_type": "stream",
     "text": [
      "/Users/quangtn/opt/anaconda3/envs/fastapi_course/lib/python3.10/site-packages/sklearn/svm/_classes.py:32: FutureWarning: The default value of `dual` will change from `True` to `'auto'` in 1.5. Set the value of `dual` explicitly to suppress the warning.\n",
      "  warnings.warn(\n",
      "/Users/quangtn/opt/anaconda3/envs/fastapi_course/lib/python3.10/site-packages/sklearn/svm/_base.py:1250: ConvergenceWarning: Liblinear failed to converge, increase the number of iterations.\n",
      "  warnings.warn(\n"
     ]
    },
    {
     "data": {
      "text/plain": [
       "array([2, 2, 2, 2, 2, 2, 2, 2, 2, 2, 2, 2, 2, 1, 2, 1, 2, 2, 2, 2, 2, 2,\n",
       "       2, 2, 2, 2, 2, 2, 1, 2, 1, 2, 2, 1, 2, 2, 2, 1, 2, 2, 2, 2, 2, 2,\n",
       "       1, 2, 2, 2, 2, 2, 2, 1, 2, 2, 1, 2, 2, 1, 2, 2, 2, 1, 1, 2, 1, 2,\n",
       "       2, 2, 2, 2, 2, 1, 2, 2, 2, 2, 2, 2, 1, 2, 1, 2, 2, 2, 1, 2, 2, 2,\n",
       "       2, 2, 2, 1, 1, 2, 2, 2, 2, 2, 2, 1, 1, 2, 2, 2, 2, 2, 2, 2, 2, 2,\n",
       "       2, 2, 1, 2, 1, 2, 2, 2, 2, 1, 2, 2, 2, 2, 1, 2, 2, 2, 2, 2, 2, 2,\n",
       "       1])"
      ]
     },
     "execution_count": 85,
     "metadata": {},
     "output_type": "execute_result"
    }
   ],
   "source": [
    "model_svc2 = LinearSVC(max_iter=10000)\n",
    "model_svc2.fit(X_train2, Y_train2)\n",
    "predicted_svc2 = model_svc.predict(X_test)\n",
    "predicted_svc2"
   ]
  },
  {
   "cell_type": "code",
   "execution_count": 86,
   "id": "301e5a89-fb9e-4d68-8b53-a142f64b2800",
   "metadata": {},
   "outputs": [
    {
     "data": {
      "text/plain": [
       "array(['Win', 'Win', 'Win', 'Win', 'Win', 'Win', 'Win', 'Win', 'Win',\n",
       "       'Win', 'Win', 'Win', 'Win', 'Lose', 'Win', 'Lose', 'Win', 'Win',\n",
       "       'Win', 'Win', 'Win', 'Win', 'Win', 'Win', 'Win', 'Win', 'Win',\n",
       "       'Win', 'Lose', 'Win', 'Lose', 'Win', 'Win', 'Lose', 'Win', 'Win',\n",
       "       'Win', 'Lose', 'Win', 'Win', 'Win', 'Win', 'Win', 'Win', 'Lose',\n",
       "       'Win', 'Win', 'Win', 'Win', 'Win', 'Win', 'Lose', 'Win', 'Win',\n",
       "       'Lose', 'Win', 'Win', 'Lose', 'Win', 'Win', 'Win', 'Lose', 'Lose',\n",
       "       'Win', 'Lose', 'Win', 'Win', 'Win', 'Win', 'Win', 'Win', 'Lose',\n",
       "       'Win', 'Win', 'Win', 'Win', 'Win', 'Win', 'Lose', 'Win', 'Lose',\n",
       "       'Win', 'Win', 'Win', 'Lose', 'Win', 'Win', 'Win', 'Win', 'Win',\n",
       "       'Win', 'Lose', 'Lose', 'Win', 'Win', 'Win', 'Win', 'Win', 'Win',\n",
       "       'Lose', 'Lose', 'Win', 'Win', 'Win', 'Win', 'Win', 'Win', 'Win',\n",
       "       'Win', 'Win', 'Win', 'Win', 'Lose', 'Win', 'Lose', 'Win', 'Win',\n",
       "       'Win', 'Win', 'Lose', 'Win', 'Win', 'Win', 'Win', 'Lose', 'Win',\n",
       "       'Win', 'Win', 'Win', 'Win', 'Win', 'Win', 'Lose'], dtype=object)"
      ]
     },
     "execution_count": 86,
     "metadata": {},
     "output_type": "execute_result"
    }
   ],
   "source": [
    "target_prediction_svc2 = le.inverse_transform(predicted_svc2)\n",
    "target_prediction_svc2"
   ]
  },
  {
   "cell_type": "code",
   "execution_count": 87,
   "id": "5e0299b4-8200-4aff-b52a-6a1e108f2ac8",
   "metadata": {},
   "outputs": [
    {
     "data": {
      "image/png": "[encoded data removed]",
      "text/plain": [
       "<Figure size 1500x1500 with 2 Axes>"
      ]
     },
     "metadata": {},
     "output_type": "display_data"
    },
    {
     "name": "stdout",
     "output_type": "stream",
     "text": [
      "              precision    recall  f1-score   support\n",
      "\n",
      "        Draw       0.00      0.00      0.00        23\n",
      "        Lose       0.46      0.26      0.33        46\n",
      "         Win       0.49      0.81      0.61        64\n",
      "\n",
      "    accuracy                           0.48       133\n",
      "   macro avg       0.32      0.36      0.31       133\n",
      "weighted avg       0.39      0.48      0.41       133\n",
      "\n",
      "\n",
      "\n",
      "Accuracy:  0.48120300751879697\n",
      "Recall:  0.3577898550724638\n",
      "Precision:  0.3158399233165588\n",
      "F1 Score:  0.3138401559454191\n"
     ]
    },
    {
     "name": "stderr",
     "output_type": "stream",
     "text": [
      "/Users/quangtn/opt/anaconda3/envs/fastapi_course/lib/python3.10/site-packages/sklearn/metrics/_classification.py:1471: UndefinedMetricWarning: Precision and F-score are ill-defined and being set to 0.0 in labels with no predicted samples. Use `zero_division` parameter to control this behavior.\n",
      "  _warn_prf(average, modifier, msg_start, len(result))\n",
      "/Users/quangtn/opt/anaconda3/envs/fastapi_course/lib/python3.10/site-packages/sklearn/metrics/_classification.py:1471: UndefinedMetricWarning: Precision and F-score are ill-defined and being set to 0.0 in labels with no predicted samples. Use `zero_division` parameter to control this behavior.\n",
      "  _warn_prf(average, modifier, msg_start, len(result))\n",
      "/Users/quangtn/opt/anaconda3/envs/fastapi_course/lib/python3.10/site-packages/sklearn/metrics/_classification.py:1471: UndefinedMetricWarning: Precision and F-score are ill-defined and being set to 0.0 in labels with no predicted samples. Use `zero_division` parameter to control this behavior.\n",
      "  _warn_prf(average, modifier, msg_start, len(result))\n",
      "/Users/quangtn/opt/anaconda3/envs/fastapi_course/lib/python3.10/site-packages/sklearn/metrics/_classification.py:1471: UndefinedMetricWarning: Precision is ill-defined and being set to 0.0 in labels with no predicted samples. Use `zero_division` parameter to control this behavior.\n",
      "  _warn_prf(average, modifier, msg_start, len(result))\n"
     ]
    }
   ],
   "source": [
    "confussion_matrix(Y_test, predicted_svc2, testing_class)"
   ]
  },
  {
   "cell_type": "code",
   "execution_count": 88,
   "id": "85e6239f-df89-450f-b195-718f849147f2",
   "metadata": {},
   "outputs": [
    {
     "data": {
      "text/plain": [
       "0.48120300751879697"
      ]
     },
     "execution_count": 88,
     "metadata": {},
     "output_type": "execute_result"
    }
   ],
   "source": [
    "accuracy_svc2 = accuracy_score(Y_test, predicted_svc2)\n",
    "accuracy_svc2"
   ]
  },
  {
   "cell_type": "code",
   "execution_count": 89,
   "id": "ea9bcf82-62d7-4723-b01b-0f5800cf2903",
   "metadata": {},
   "outputs": [
    {
     "name": "stderr",
     "output_type": "stream",
     "text": [
      "/Users/quangtn/opt/anaconda3/envs/fastapi_course/lib/python3.10/site-packages/xgboost/core.py:160: UserWarning: [16:13:45] WARNING: /Users/runner/work/xgboost/xgboost/src/learner.cc:742: \n",
      "Parameters: { \"max_iter\", \"params\" } are not used.\n",
      "\n",
      "  warnings.warn(smsg, UserWarning)\n"
     ]
    },
    {
     "data": {
      "text/plain": [
       "array([2, 0, 2, 2, 2, 2, 0, 0, 2, 2, 2, 2, 2, 1, 1, 2, 2, 2, 2, 2, 2, 2,\n",
       "       1, 0, 2, 1, 2, 2, 1, 2, 2, 2, 2, 1, 2, 2, 2, 1, 2, 2, 2, 2, 2, 2,\n",
       "       2, 2, 0, 1, 2, 2, 2, 2, 1, 2, 2, 2, 2, 0, 1, 2, 2, 2, 2, 2, 1, 1,\n",
       "       2, 0, 1, 2, 1, 1, 2, 0, 1, 2, 2, 2, 2, 2, 0, 2, 2, 2, 1, 1, 1, 1,\n",
       "       0, 2, 0, 1, 0, 2, 0, 0, 2, 2, 1, 1, 1, 1, 2, 1, 0, 2, 0, 2, 1, 2,\n",
       "       2, 0, 1, 2, 1, 0, 0, 2, 1, 2, 1, 2, 1, 2, 2, 1, 0, 2, 2, 2, 0, 2,\n",
       "       0])"
      ]
     },
     "execution_count": 89,
     "metadata": {},
     "output_type": "execute_result"
    }
   ],
   "source": [
    "params = {'booster': 'gblinear', 'objective': 'reg:linear', 'max_depth': 5, 'learning_rate': .001,\n",
    "          'n_estimators': 1000,    'min_child_weight': 3, 'colsample_bytree': .7,\n",
    "      'subsample': .8, 'gamma': 0.4, 'reg_alpha': 1}\n",
    "\n",
    "model_xgb3 = xgb.XGBClassifier(max_iter=10000, params=params)\n",
    "model_xgb3.fit(X_train2, Y_train2)\n",
    "predicted_xgb3 = model_xgb3.predict(X_test)\n",
    "predicted_xgb3"
   ]
  },
  {
   "cell_type": "code",
   "execution_count": 90,
   "id": "ab76d6c1-10f2-4617-a509-4d71de8b1d71",
   "metadata": {},
   "outputs": [
    {
     "data": {
      "text/plain": [
       "array(['Win', 'Draw', 'Win', 'Win', 'Win', 'Win', 'Draw', 'Draw', 'Win',\n",
       "       'Win', 'Win', 'Win', 'Win', 'Lose', 'Lose', 'Win', 'Win', 'Win',\n",
       "       'Win', 'Win', 'Win', 'Win', 'Lose', 'Draw', 'Win', 'Lose', 'Win',\n",
       "       'Win', 'Lose', 'Win', 'Win', 'Win', 'Win', 'Lose', 'Win', 'Win',\n",
       "       'Win', 'Lose', 'Win', 'Win', 'Win', 'Win', 'Win', 'Win', 'Win',\n",
       "       'Win', 'Draw', 'Lose', 'Win', 'Win', 'Win', 'Win', 'Lose', 'Win',\n",
       "       'Win', 'Win', 'Win', 'Draw', 'Lose', 'Win', 'Win', 'Win', 'Win',\n",
       "       'Win', 'Lose', 'Lose', 'Win', 'Draw', 'Lose', 'Win', 'Lose',\n",
       "       'Lose', 'Win', 'Draw', 'Lose', 'Win', 'Win', 'Win', 'Win', 'Win',\n",
       "       'Draw', 'Win', 'Win', 'Win', 'Lose', 'Lose', 'Lose', 'Lose',\n",
       "       'Draw', 'Win', 'Draw', 'Lose', 'Draw', 'Win', 'Draw', 'Draw',\n",
       "       'Win', 'Win', 'Lose', 'Lose', 'Lose', 'Lose', 'Win', 'Lose',\n",
       "       'Draw', 'Win', 'Draw', 'Win', 'Lose', 'Win', 'Win', 'Draw', 'Lose',\n",
       "       'Win', 'Lose', 'Draw', 'Draw', 'Win', 'Lose', 'Win', 'Lose', 'Win',\n",
       "       'Lose', 'Win', 'Win', 'Lose', 'Draw', 'Win', 'Win', 'Win', 'Draw',\n",
       "       'Win', 'Draw'], dtype=object)"
      ]
     },
     "execution_count": 90,
     "metadata": {},
     "output_type": "execute_result"
    }
   ],
   "source": [
    "target_prediction_xgb3 = le.inverse_transform(predicted_xgb3)\n",
    "target_prediction_xgb3"
   ]
  },
  {
   "cell_type": "code",
   "execution_count": 91,
   "id": "f84056a8-6f34-4a25-be81-fdac06892b80",
   "metadata": {},
   "outputs": [
    {
     "data": {
      "image/png": "[encoded data removed]",
      "text/plain": [
       "<Figure size 1500x1500 with 2 Axes>"
      ]
     },
     "metadata": {},
     "output_type": "display_data"
    },
    {
     "name": "stdout",
     "output_type": "stream",
     "text": [
      "              precision    recall  f1-score   support\n",
      "\n",
      "        Draw       0.14      0.13      0.13        23\n",
      "        Lose       0.52      0.37      0.43        46\n",
      "         Win       0.55      0.67      0.61        64\n",
      "\n",
      "    accuracy                           0.47       133\n",
      "   macro avg       0.40      0.39      0.39       133\n",
      "weighted avg       0.47      0.47      0.46       133\n",
      "\n",
      "\n",
      "\n",
      "Accuracy:  0.47368421052631576\n",
      "Recall:  0.390625\n",
      "Precision:  0.40093240093240096\n",
      "F1 Score:  0.3897822943285593\n"
     ]
    }
   ],
   "source": [
    "confussion_matrix(Y_test, predicted_xgb3, testing_class)"
   ]
  },
  {
   "cell_type": "code",
   "execution_count": 92,
   "id": "769def86-3dd0-4b2b-8921-274ab9412f5e",
   "metadata": {},
   "outputs": [
    {
     "data": {
      "text/plain": [
       "0.47368421052631576"
      ]
     },
     "execution_count": 92,
     "metadata": {},
     "output_type": "execute_result"
    }
   ],
   "source": [
    "accuracy_xgb3 = accuracy_score(Y_test, predicted_xgb3)\n",
    "accuracy_xgb3"
   ]
  },
  {
   "cell_type": "code",
   "execution_count": 93,
   "id": "39507daf-5875-48e4-a7cd-667c6ea9b9c4",
   "metadata": {},
   "outputs": [
    {
     "data": {
      "text/html": [
       "<div>\n",
       "<style scoped>\n",
       "    .dataframe tbody tr th:only-of-type {\n",
       "        vertical-align: middle;\n",
       "    }\n",
       "\n",
       "    .dataframe tbody tr th {\n",
       "        vertical-align: top;\n",
       "    }\n",
       "\n",
       "    .dataframe thead th {\n",
       "        text-align: right;\n",
       "    }\n",
       "</style>\n",
       "<table border=\"1\" class=\"dataframe\">\n",
       "  <thead>\n",
       "    <tr style=\"text-align: right;\">\n",
       "      <th></th>\n",
       "      <th>Model</th>\n",
       "      <th>Accuracy</th>\n",
       "    </tr>\n",
       "  </thead>\n",
       "  <tbody>\n",
       "    <tr>\n",
       "      <th>0</th>\n",
       "      <td>SVC</td>\n",
       "      <td>48.120301</td>\n",
       "    </tr>\n",
       "    <tr>\n",
       "      <th>1</th>\n",
       "      <td>Random Forest Clf</td>\n",
       "      <td>48.872180</td>\n",
       "    </tr>\n",
       "    <tr>\n",
       "      <th>2</th>\n",
       "      <td>Xgboost</td>\n",
       "      <td>50.375940</td>\n",
       "    </tr>\n",
       "    <tr>\n",
       "      <th>3</th>\n",
       "      <td>Xgboost_Upsample</td>\n",
       "      <td>47.368421</td>\n",
       "    </tr>\n",
       "    <tr>\n",
       "      <th>4</th>\n",
       "      <td>Xgboost_Conf</td>\n",
       "      <td>47.368421</td>\n",
       "    </tr>\n",
       "  </tbody>\n",
       "</table>\n",
       "</div>"
      ],
      "text/plain": [
       "               Model   Accuracy\n",
       "0                SVC  48.120301\n",
       "1  Random Forest Clf  48.872180\n",
       "2            Xgboost  50.375940\n",
       "3   Xgboost_Upsample  47.368421\n",
       "4       Xgboost_Conf  47.368421"
      ]
     },
     "execution_count": 93,
     "metadata": {},
     "output_type": "execute_result"
    }
   ],
   "source": [
    "## Generate a simple report for easy look.\n",
    "\n",
    "result = {'SVC': accuracy_svc*100, 'Random Forest Clf': accuracy_rfc*100, 'Xgboost': accuracy_xgb*100, 'Xgboost_Upsample': accuracy_xgb2*100 , 'Xgboost_Conf': accuracy_xgb3*100}\n",
    "df=pd.DataFrame(result.items(),columns=['Model','Accuracy'])\n",
    "\n",
    "df"
   ]
  },
  {
   "cell_type": "markdown",
   "id": "a3313daa-0f51-4876-8e37-3b30cc2a46c8",
   "metadata": {},
   "source": [
    "### In conclusion\n",
    "\n",
    "For methods, The curent best method is __Xgboost__\n",
    "+ __Accuracy__:  50.376\n",
    "+ __Recall__:  41.757\n",
    "+ __Precision__:  42.383\n",
    "+ __F1 Score__:  41.765\n",
    "\n",
    "Besides the upsampling method, We can consider another method:\n",
    "\n",
    "+ __Getting more data from different season__. As I anaylyzed the dataset, there are only 2 seasons for the dataset, so it lacks of data about the match result of each team for better prediction. For each __home_team__, it has a short of data (number of matches) about each opponent (__away_team__).\n",
    "+ __Getting more information (columns) about each match__."
   ]
  },
  {
   "cell_type": "code",
   "execution_count": null,
   "id": "5f0eb850-9ba2-4a0c-b0a9-01c0cda413a9",
   "metadata": {},
   "outputs": [],
   "source": []
  }
 ],
 "metadata": {
  "kernelspec": {
   "display_name": "Python 3 (ipykernel)",
   "language": "python",
   "name": "python3"
  },
  "language_info": {
   "codemirror_mode": {
    "name": "ipython",
    "version": 3
   },
   "file_extension": ".py",
   "mimetype": "text/x-python",
   "name": "python",
   "nbconvert_exporter": "python",
   "pygments_lexer": "ipython3",
   "version": "3.8.19"
  }
 },
 "nbformat": 4,
 "nbformat_minor": 5
}
